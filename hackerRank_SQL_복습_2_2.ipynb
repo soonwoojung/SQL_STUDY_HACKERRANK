{
  "nbformat": 4,
  "nbformat_minor": 0,
  "metadata": {
    "colab": {
      "name": "hackerRank_SQL_복습_2/2.ipynb",
      "provenance": []
    },
    "kernelspec": {
      "name": "python3",
      "display_name": "Python 3"
    },
    "language_info": {
      "name": "python"
    }
  },
  "cells": [
    {
      "cell_type": "markdown",
      "metadata": {
        "id": "ktL-axdoNAku"
      },
      "source": [
        "어려웠던 문제를 복습하는 시간을 가져봅시다"
      ]
    },
    {
      "cell_type": "markdown",
      "metadata": {
        "id": "ivbJ5uIMrtrH"
      },
      "source": [
        "# Day1 - (HARD) Weather Observation Station 5 - 서브쿼리인듯?\n",
        "Query the two cities in STATION with the shortest and longest CITY names, as well as their respective lengths (i.e.: number of characters in the name). If there is more than one smallest or largest city, choose the one that comes first when ordered alphabetically."
      ]
    },
    {
      "cell_type": "code",
      "metadata": {
        "id": "mb6TGkACM95T"
      },
      "source": [
        "# 한 놈은 가장 짧은 놈\n",
        "select city, length(city) from station\n",
        "where length(city) = (\n",
        "    select min(CHAR_LENGTH(city)) from station \n",
        ")\n",
        "order by city\n",
        "limit 1;\n",
        "\n",
        "\n",
        "# 한 놈은 가장 긴 놈\n",
        "select city, length(city) from station\n",
        "where length(city) = (\n",
        "    select max(CHAR_LENGTH(city)) from station \n",
        ")\n",
        "order by city\n",
        "limit 1;\n",
        "\n",
        "# 정답!"
      ],
      "execution_count": null,
      "outputs": []
    },
    {
      "cell_type": "markdown",
      "metadata": {
        "id": "yEuVsqWMtiZU"
      },
      "source": [
        "# Day1 - [~~로 시작하는 글자 찾기] Weather Observation Station 6\n",
        "\n",
        "Query the list of CITY names starting with vowels (i.e., a, e, i, o, or u) from STATION. Your result cannot contain duplicates."
      ]
    },
    {
      "cell_type": "code",
      "metadata": {
        "id": "0s3KaXByr2HS"
      },
      "source": [
        "select distinct(city) from station\n",
        "# 정규표현식 Regular Expression? 줄여서 RegExp \n",
        "select distinct(city) from station\n",
        "where REGEXP_LIKE(city,\"^a|^e|^i|^o|^u\")\n",
        "# 정답!\n",
        "# | 를 여러개 쓰지 말고\n",
        "# REGEXP_LIKE(city,'^[aeiouAEIOU]') 이렇게하는게 더 깔끔하네"
      ],
      "execution_count": null,
      "outputs": []
    },
    {
      "cell_type": "markdown",
      "metadata": {
        "id": "qTlw_HbrwSq6"
      },
      "source": [
        "# Day2 - [★조건문 CASE Hard] Type of Triangle\n",
        "\n",
        "Write a query identifying the type of each record in the TRIANGLES table using its three side lengths. Output one of the following statements for each record in the table:\n",
        "\n",
        "Equilateral: It's a triangle with  sides of equal length.\n",
        "Isosceles: It's a triangle with  sides of equal length.\n",
        "Scalene: It's a triangle with  sides of differing lengths.\n",
        "Not A Triangle: The given values of A, B, and C don't form a triangle."
      ]
    },
    {
      "cell_type": "code",
      "metadata": {
        "id": "anJsJ21CgN0P"
      },
      "source": [
        "# https://velog.io/@inyong_pang/MySQL-MySQL-variables%EB%B3%80%EC%88%98-%EB%A7%8C%EB%93%A4%EC%96%B4%EC%84%9C-%EC%9D%91%EC%9A%A9%ED%95%98%EA%B8%B0getidPK\n",
        "# ㄴ mysql 변수 만들어서 응용하기\n",
        "# 기대값 4종류 : 정삼각형, 이등변 삼각형, 이상한 삼각형, 삼각형이 아님\n",
        "SET @return = 1\n",
        "\n",
        "select @return,\n",
        "case\n",
        "  when (a+b < c) or (a+c < b) or (b+c < a) then @return := \"Not A Triangle\"\n",
        "  when (a=b & b > c) or (a=c & c > b) or (c=b & b > a) then @return := \"Isosceles\"\n",
        "  when (a=b & b = c) then @return := \"Equilateral\"\n",
        "  else @return := \"Scalene\"\n",
        "end\n",
        "from TRIANGLES \n",
        "\n",
        "# ㄴ case랑 when이랑 헷갈린거 같다 ;;\n",
        "select case\n",
        "  when (a+b <= c) or (a+c <= b) or (b+c <= a) then \"Not A Triangle\"\n",
        "  when a=b & b = c then \"Equilateral\"\n",
        "  # 헉! AND 랑 && 랑 같은거였다. &는 틀림. 논리연산자로서 &&.\n",
        "  when (a=b & 2b > c) or (a=c & 2c > b) or (c=b & 2b > a) then \"Isosceles\"\n",
        "  else \"Scalene\"\n",
        "end\n",
        "from TRIANGLES \n",
        "\n",
        "# 다른 사람의 정답\n",
        "SELECT\n",
        "  CASE\n",
        "      WHEN a+b <= c OR a+c <= b OR b+c <= a THEN 'Not A Triangle'\n",
        "      WHEN a=b AND b=c THEN 'Equilateral'\n",
        "      WHEN a=b OR b=c OR c=a THEN 'Isosceles'\n",
        "      ELSE 'Scalene'\n",
        "      END\n",
        "FROM triangles;"
      ],
      "execution_count": null,
      "outputs": []
    },
    {
      "cell_type": "markdown",
      "metadata": {
        "id": "TfELIlHpUNAm"
      },
      "source": [
        "\n",
        "# [★MEDIAN -> @rowindex] Weather Observation Station 20\n",
        "\n",
        "A median is defined as a number separating the higher half of a data set from the lower half. Query the median of the Northern Latitudes (LAT_N) from STATION and round your answer to decimal places."
      ]
    },
    {
      "cell_type": "code",
      "metadata": {
        "id": "IsFcJdi2UPH-"
      },
      "source": [
        "# 어떻게 중앙값을 고를까?\n",
        "# ROW 개수를 얻는다\n",
        "# LAT_N 기준으로 내림차순 정렬 후, 중앙 순서의 LAT_N 값을 얻는다.\n",
        "\n",
        "# n번째 row를 얻는법\n",
        "# SELECT * \n",
        "# FROM ( \n",
        "#     SELECT \n",
        "#         2@row := @row +1 AS rownum, [column name] \n",
        "#     FROM ( \n",
        "#         SELECT @row :=0) r, [table name] \n",
        "#     ) ranked \n",
        "# WHERE rownum % [n] = 1 \n",
        "\n",
        "SET @N := 0;\n",
        "SELECT COUNT(*) FROM STATION INTO @TOTAL;\n",
        "# 전체 행이 99개라면 @Total = 99\n",
        "\n",
        "SELECT\n",
        "    ROUND(AVG(A.LAT_N), 4)\n",
        "FROM (SELECT @N := @N +1 AS ROW_ID, LAT_N  # ROW_ID = 50인 LAT_N을 가져온다\n",
        "      FROM STATION \n",
        "      ORDER BY LAT_N) A\n",
        "WHERE\n",
        "    # 중앙값 로직\n",
        "    CASE WHEN MOD(@TOTAL, 2) = 0 \n",
        "    # mod : 2로 나눈 나머지\n",
        "            THEN A.ROW_ID IN (@TOTAL/2, (@TOTAL/2+1))\n",
        "            ELSE A.ROW_ID = (@TOTAL+1)/2 # ROW_ID = 50\n",
        "    END\n",
        "\n",
        "set @rowindex := -1;\n",
        "select round(avg(lat_n),4)\n",
        "from\n",
        "(select @rowindex:=@rowindex+1 as rowindex, lat_n \n",
        "from station\n",
        "order by lat_n) as l \n",
        "where l.rowindex in (floor(@rowindex/2), ceil(@rowindex/2));"
      ],
      "execution_count": null,
      "outputs": []
    },
    {
      "cell_type": "markdown",
      "metadata": {
        "id": "McEItLOEZkfn"
      },
      "source": [
        "# [Hard GROUP BY] The PADS\n",
        "\n",
        "Generate the following two result sets:\n",
        "\n",
        "**Query an alphabetically ordered list of all names in OCCUPATIONS**, immediately followed by the first letter of each profession as a parenthetical (i.e.: enclosed in parentheses). For example: AnActorName(A), ADoctorName(D), AProfessorName(P), and ASingerName(S). \n",
        "\n",
        "**Query the number of ocurrences of each occupation in OCCUPATIONS.** Sort the occurrences in ascending order, and output them in the following format:\n",
        "\n",
        "There are a total of [occupation_count] [occupation]s. where [occupation_count] is the number of occurrences of an occupation in OCCUPATIONS and [occupation] is the lowercase occupation name. If more than one Occupation has the same [occupation_count], they should be ordered alphabetically."
      ]
    },
    {
      "cell_type": "code",
      "metadata": {
        "id": "PsVfs8gHZnsY"
      },
      "source": [
        "# group by는 많이 고민해봐서 풀 수 있을듯?\n",
        "# 너무 쉽네\n",
        "# 이어붙이기 : concat\n",
        "select name, CONCAT('(',UPPER(SUBSTR(OCCUPATION,1,1)),')') FROM OCCUPATIONS\n",
        "from occupations\n",
        "order by name;\n",
        "\n",
        "select concat('There are a total of',' ',count(occupation),' ',lower(occupation),'s.') \n",
        "from occupations\n",
        "group by occupation\n",
        "order by count(occupation), occupation"
      ],
      "execution_count": null,
      "outputs": []
    },
    {
      "cell_type": "markdown",
      "metadata": {
        "id": "YF5ybiERc0C7"
      },
      "source": [
        "# [★Too Hard Pivot] Occupations\n",
        "\n",
        "**Pivot the Occupation column in OCCUPATIONS so that each Name is sorted alphabetically and displayed underneath its corresponding Occupation.** The output column headers should be Doctor, Professor, Singer, and Actor, respectively.\n",
        "\n",
        "Note: Print NULL when there are no more names corresponding to an occupation."
      ]
    },
    {
      "cell_type": "code",
      "metadata": {
        "id": "p0RKdKQLdJy9"
      },
      "source": [
        "# 피봇이란게 row랑 col을 바꾸는건데,\n",
        "# Doctor | Prof | Singer | Actor | \n",
        "# 이런식으로 row를 col로 바꿔야 한다.\n",
        "# 그렇다면 row의 distinct 값을 col로 바꾼다.\n",
        "# 그리고 새로운 row가 될 index를 세야 한다.\n",
        "\n",
        "# 다른 사람의 답\n",
        "set @r1=0, @r2=0, @r3=0, @r4=0;\n",
        "select min(Doctor), min(Professor), min(Singer), min(Actor)\n",
        "from(\n",
        "  select case when Occupation='Doctor' then (@r1:=@r1+1)\n",
        "            when Occupation='Professor' then (@r2:=@r2+1)\n",
        "            when Occupation='Singer' then (@r3:=@r3+1)\n",
        "            when Occupation='Actor' then (@r4:=@r4+1) end as RowNumber,\n",
        "    case when Occupation='Doctor' then Name end as Doctor,\n",
        "    case when Occupation='Professor' then Name end as Professor,\n",
        "    case when Occupation='Singer' then Name end as Singer,\n",
        "    case when Occupation='Actor' then Name end as Actor\n",
        "  from OCCUPATIONS\n",
        "  order by Name\n",
        ") Temp\n",
        "group by RowNumber\n",
        "# https://www.hackerrank.com/challenges/occupations/forum\n",
        "#---------------------------------------------------------------------\n",
        "-- MySQL\n",
        "SELECT \n",
        "MIN(CASE WHEN Occupation = 'Doctor' THEN Name ELSE NULL END) AS Doctor,\n",
        "MIN(CASE WHEN Occupation = 'Professor' THEN Name ELSE NULL END) AS Professor,\n",
        "MIN(CASE WHEN Occupation = 'Singer' THEN Name ELSE NULL END) AS Singer,\n",
        "MIN(CASE WHEN Occupation = 'Actor' THEN Name ELSE NULL END) AS Actor\n",
        "FROM (\n",
        "  SELECT a.Occupation,\n",
        "         a.Name,\n",
        "         (SELECT COUNT(*) \n",
        "            FROM Occupations AS b\n",
        "            WHERE a.Occupation = b.Occupation AND a.Name > b.Name) AS rank\n",
        "  FROM Occupations AS a\n",
        ") AS c\n",
        "GROUP BY c.rank;\n",
        "#---------------------------------------------------------------------\n",
        "SELECT a.Occupation,\n",
        "        a.Name,\n",
        "        (\n",
        "          SELECT COUNT(*) \n",
        "          FROM Occupations AS b\n",
        "          WHERE a.Occupation = b.Occupation AND a.Name > b.Name\n",
        "         ) AS rank\n",
        "FROM Occupations AS a\n",
        "+------------+-----------+------+\n",
        "| Occupation | Name      | rank |\n",
        "+------------+-----------+------+\n",
        "| Doctor     | Samantha  |    1 |\n",
        "| Actor      | Julia     |    1 |\n",
        "| Actor      | Maria     |    2 |\n",
        "| Singer     | Meera     |    0 |\n",
        "#--------------------------------------------------------------------\n",
        "SELECT \n",
        "rank,\n",
        "CASE WHEN Occupation = 'Doctor' THEN Name ELSE NULL END AS Doctor,\n",
        "CASE WHEN Occupation = 'Professor' THEN Name ELSE NULL END AS Professor,\n",
        "CASE WHEN Occupation = 'Singer' THEN Name ELSE NULL END AS Singer,\n",
        "CASE WHEN Occupation = 'Actor' THEN Name ELSE NULL END AS Actor\n",
        "FROM (\n",
        "  SELECT a.Occupation,\n",
        "         a.Name,\n",
        "         (SELECT COUNT(*) \n",
        "            FROM Occupations AS b\n",
        "            WHERE a.Occupation = b.Occupation AND a.Name > b.Name) AS rank\n",
        "  FROM Occupations AS a\n",
        ") AS c\n",
        "+------+----------+-----------+--------+-------+\n",
        "| rank | Doctor   | Professor | Singer | Actor |\n",
        "+------+----------+-----------+--------+-------+\n",
        "|    1 | Samantha | NULL      | NULL   | NULL  |\n",
        "|    1 | NULL     | NULL      | NULL   | Julia |\n",
        "|    2 | NULL     | NULL      | NULL   | Maria |\n",
        "|    0 | NULL     | NULL      | Meera  | NULL  |\n",
        "|    0 | NULL     | Ashely    | NULL   | NULL  |\n",
        "#--------------------------------------------------------------------\n",
        "SELECT \n",
        "rank,\n",
        "MAX(CASE WHEN Occupation = 'Doctor' THEN Name ELSE NULL END) AS Doctor,\n",
        "MAX(CASE WHEN Occupation = 'Professor' THEN Name ELSE NULL END) AS Professor,\n",
        "MAX(CASE WHEN Occupation = 'Singer' THEN Name ELSE NULL END) AS Singer,\n",
        "MAX(CASE WHEN Occupation = 'Actor' THEN Name ELSE NULL END) AS Actor\n",
        "FROM (\n",
        "  SELECT a.Occupation,\n",
        "         a.Name,\n",
        "         (SELECT COUNT(*) \n",
        "            FROM Occupations AS b\n",
        "            WHERE a.Occupation = b.Occupation AND a.Name > b.Name) AS rank\n",
        "  FROM Occupations AS a\n",
        ") AS c\n",
        "GROUP BY c.rank;\n",
        "\n",
        "+------+----------+-----------+--------+-------+\n",
        "| rank | Doctor   | Professor | Singer | Actor |\n",
        "+------+----------+-----------+--------+-------+\n",
        "|    0 | Jenny    | Ashely    | Meera  | Jane  |\n",
        "|    1 | Samantha | Christeen | Priya  | Julia |\n",
        "|    2 | NULL     | Ketty     | NULL   | Maria |\n",
        "+------+----------+-----------+--------+-------+\n",
        "#-----------------------\n",
        "\n",
        "# MS SQL 정답\n",
        "# 이쪽이 생각해내기 쉬운듯\n",
        "\n",
        "SELECT\n",
        "    [Doctor], [Professor], [Singer], [Actor]\n",
        "FROM\n",
        "(\n",
        "    SELECT ROW_NUMBER() \n",
        "    OVER (PARTITION BY OCCUPATION ORDER BY NAME) [RowNumber], * FROM OCCUPATIONS\n",
        ") AS tempTable\n",
        "PIVOT\n",
        "(\n",
        "    MAX(NAME) FOR OCCUPATION IN ([Doctor], [Professor], [Singer], [Actor])\n",
        ") AS pivotTable"
      ],
      "execution_count": null,
      "outputs": []
    },
    {
      "cell_type": "code",
      "metadata": {
        "id": "8qH_Dc_KdJ1t"
      },
      "source": [
        ""
      ],
      "execution_count": null,
      "outputs": []
    },
    {
      "cell_type": "code",
      "metadata": {
        "id": "kE76s1pTdJ4N"
      },
      "source": [
        ""
      ],
      "execution_count": null,
      "outputs": []
    },
    {
      "cell_type": "code",
      "metadata": {
        "id": "GdvoUUtYdJ6d"
      },
      "source": [
        ""
      ],
      "execution_count": null,
      "outputs": []
    }
  ]
}