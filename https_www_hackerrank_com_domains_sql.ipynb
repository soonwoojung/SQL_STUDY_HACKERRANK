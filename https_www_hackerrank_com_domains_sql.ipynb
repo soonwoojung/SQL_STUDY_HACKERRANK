{
  "nbformat": 4,
  "nbformat_minor": 0,
  "metadata": {
    "colab": {
      "name": "https://www.hackerrank.com/domains/sql.ipynb",
      "provenance": [],
      "toc_visible": true
    },
    "kernelspec": {
      "name": "python3",
      "display_name": "Python 3"
    },
    "language_info": {
      "name": "python"
    }
  },
  "cells": [
    {
      "cell_type": "markdown",
      "metadata": {
        "id": "TeN8SakWXnfQ"
      },
      "source": [
        "https://www.hackerrank.com/domains/sql"
      ]
    },
    {
      "cell_type": "markdown",
      "metadata": {
        "id": "7yJt4ul7XtOS"
      },
      "source": [
        "# Revising the Select Query I\n",
        "\n",
        "Query all columns for all American cities in the CITY table with populations larger than 100000. The CountryCode for America is USA.\n",
        "\n",
        "The CITY table is described as follows:"
      ]
    },
    {
      "cell_type": "code",
      "metadata": {
        "id": "lGaISREtXmAn"
      },
      "source": [
        "SELECT * FROM CITY \n",
        "WHERE POPULATION > 100000 AND CountryCode = 'USA';\n",
        "\n",
        "# 오답 사례 : CountryCode == 'USA' // SQL 조건문에서 일치는 = 을 사용."
      ],
      "execution_count": null,
      "outputs": []
    },
    {
      "cell_type": "markdown",
      "metadata": {
        "id": "DC3MBzVvbEqj"
      },
      "source": [
        "# Revising the Select Query II\n",
        "\n",
        "Query the NAME field for all American cities in the CITY table with populations larger than 120000. The CountryCode for America is USA.\n",
        "\n",
        "The CITY table is described as follows:"
      ]
    },
    {
      "cell_type": "code",
      "metadata": {
        "id": "qlCsP-uVbHcb"
      },
      "source": [
        "SELECT NAME FROM CITY \n",
        "WHERE POPULATION > 120000 AND CountryCode = 'USA';"
      ],
      "execution_count": null,
      "outputs": []
    },
    {
      "cell_type": "markdown",
      "metadata": {
        "id": "WnBQKu8pcJEw"
      },
      "source": [
        "# Select All\n",
        "\n",
        "Query all columns (attributes) for every row in the CITY table.\n",
        "\n",
        "The CITY table is described as follows:"
      ]
    },
    {
      "cell_type": "code",
      "metadata": {
        "id": "2fOsmC3vcO-7"
      },
      "source": [
        "SELECT * FROM CITY"
      ],
      "execution_count": null,
      "outputs": []
    },
    {
      "cell_type": "markdown",
      "metadata": {
        "id": "qcaJPNuJcpfH"
      },
      "source": [
        "# Select By ID\n",
        "\n",
        "Query all columns for a city in CITY with the ID 1661.\n",
        "\n",
        "The CITY table is described as follows:"
      ]
    },
    {
      "cell_type": "code",
      "metadata": {
        "id": "s1idnI6Kcr9o"
      },
      "source": [
        "SELECT * FROM CITY\n",
        "WHERE ID = '1661';\n",
        "\n",
        "SELECT * FROM CITY\n",
        "WHERE ID = 1661;"
      ],
      "execution_count": null,
      "outputs": []
    },
    {
      "cell_type": "markdown",
      "metadata": {
        "id": "odwbethmdKvO"
      },
      "source": [
        "# Japanese Cities' Attributes\n",
        "\n",
        "\n",
        "\n",
        "Query all attributes of every Japanese city in the CITY table. The COUNTRYCODE for Japan is JPN.\n",
        "\n",
        "The CITY table is described as follows:"
      ]
    },
    {
      "cell_type": "code",
      "metadata": {
        "id": "97L8FJqCdPMP"
      },
      "source": [
        "SELECT * FROM CITY \n",
        "WHERE COUNTRYCODE = 'JPN';"
      ],
      "execution_count": null,
      "outputs": []
    },
    {
      "cell_type": "markdown",
      "metadata": {
        "id": "dEsYUxbUdbQd"
      },
      "source": [
        "# Japanese Cities' Names\n",
        "\n",
        "Query the names of all the Japanese cities in the CITY table. The COUNTRYCODE for Japan is JPN.\n",
        "The CITY table is described as follows:"
      ]
    },
    {
      "cell_type": "code",
      "metadata": {
        "id": "SPOMeeQEdf1H"
      },
      "source": [
        "SELECT NAME FROM CITY\n",
        "WHERE COUNTRYCODE = 'JPN';"
      ],
      "execution_count": null,
      "outputs": []
    },
    {
      "cell_type": "markdown",
      "metadata": {
        "id": "tEK0WnJOd6CK"
      },
      "source": [
        "# Weather Observation Station 1\n",
        "\n",
        "Query a list of CITY and STATE from the STATION table.\n",
        "The STATION table is described as follows:"
      ]
    },
    {
      "cell_type": "code",
      "metadata": {
        "id": "e3tExHkTd-O1"
      },
      "source": [
        "SELECT CITY, STATE FROM STATION\n",
        "SELECT CITY, STATE FROM STATION;\n",
        "\n",
        "# 오답 : SELECT CITY AND STATE FROM STATION; "
      ],
      "execution_count": null,
      "outputs": []
    },
    {
      "cell_type": "markdown",
      "metadata": {
        "id": "wXrEXDQKehL0"
      },
      "source": [
        "# Weather Observation Station 3\n",
        "\n",
        "Query a list of CITY names from STATION for cities that have an even ID number. Print the results in any order, but exclude duplicates from the answer.\n",
        "The STATION table is described as follows:"
      ]
    },
    {
      "cell_type": "code",
      "metadata": {
        "id": "avTXpuplekq1"
      },
      "source": [
        "SELECT DISTINCT CITY FROM STATION\n",
        "WHERE ID%2 = 0;\n",
        "\n",
        "# https://www.databasejournal.com/features/mysql/article.php/3911786/Eliminating-Duplicate-Rows-from-MySQL-Result-Sets.htm\n",
        "# DISTINCT : EXCLUDE DUPLICATES"
      ],
      "execution_count": null,
      "outputs": []
    },
    {
      "cell_type": "markdown",
      "metadata": {
        "id": "VhUqTvJRhTZE"
      },
      "source": [
        "# (HARD) Weather Observation Station 5\n",
        "\n",
        "Query the two cities in STATION with the shortest and longest CITY names, as well as their respective lengths (i.e.: number of characters in the name). If there is more than one smallest or largest city, choose the one that comes first when ordered alphabetically.\n",
        "The STATION table is described as follows:\n",
        "\n",
        "When ordered alphabetically, the CITY names are listed as ABC, DEF, PQRS, and WXY, with lengths  and . The longest name is PQRS, but there are  options for shortest named city. Choose ABC, because it comes first alphabetically."
      ]
    },
    {
      "cell_type": "code",
      "metadata": {
        "id": "yLtmaIJ9hhtB"
      },
      "source": [
        "# 다른 유저 정답\n",
        "select city, length(city) from station\n",
        "order by length(city),city asc\n",
        "limit 1;\n",
        "\n",
        "select city, length(city) from station\n",
        "order by length(city) desc\n",
        "limit 1;\n",
        "# --------------- # ---------------\n",
        "\n",
        "# 도시와 도시 글자 개수를 리턴 받는데\n",
        "# 도시 글자 개수가 최대인것. 그리고 ASC 순서.\n",
        "SELECT CITY, CHAR_LENGTH(CITY) FROM STATION \n",
        "where CHAR_LENGTH(city) = (select max(CHAR_LENGTH(city)) from station)\n",
        "order by city asc;\n",
        "\n",
        "# 도시와 도시 글자 개수를 리턴 받는데\n",
        "# 도시 글자 개수가 최소인것. 그리고 ASC 순서.\n",
        "# 여러개라서 LIMIT 1\n",
        "SELECT CITY, CHAR_LENGTH(CITY) FROM STATION \n",
        "where CHAR_LENGTH(city) = (select MIN(CHAR_LENGTH(city)) from station)\n",
        "order by city asc\n",
        "LIMIT 1;"
      ],
      "execution_count": null,
      "outputs": []
    },
    {
      "cell_type": "markdown",
      "metadata": {
        "id": "vaokfn6Tnksf"
      },
      "source": [
        "# Weather Observation Station 6\n",
        "\n",
        "Query the list of CITY names starting with vowels (i.e., a, e, i, o, or u) from STATION. Your result cannot contain duplicates.\n",
        "\n",
        "Input Format\n",
        "\n",
        "The STATION table is described as follows:"
      ]
    },
    {
      "cell_type": "code",
      "metadata": {
        "id": "dXXAGVkgnntH"
      },
      "source": [
        "# SUBSTR : 1번째 위치에서 1개 글자를 읽는다.\n",
        "select city from station \n",
        "where lower(SUBSTR(city,1,1)) in ('a','e','i','o','u');\n",
        "\n",
        "# 정규표현식\n",
        "select DISTINCT city from station where REGEXP_LIKE(city,'^[aeiouAEIOU]');"
      ],
      "execution_count": null,
      "outputs": []
    },
    {
      "cell_type": "markdown",
      "metadata": {
        "id": "W6NR80wGpUwY"
      },
      "source": [
        "# Weather Observation Station 7\n",
        "\n",
        "Query the list of CITY names ending with vowels (a, e, i, o, u) from STATION. Your result cannot contain duplicates."
      ]
    },
    {
      "cell_type": "code",
      "metadata": {
        "id": "pBlu36CCpYBA"
      },
      "source": [
        "# 내 정답\n",
        "select DISTINCT city from station \n",
        "where lower(SUBSTR(city,-1,1)) in ('a','e','i','o','u');\n",
        "\n",
        "# 다른 사람 정답\n",
        "SELECT DISTINCT CITY FROM STATION\n",
        "WHERE REGEXP_LIKE(City, '[aeiouAEIOU]$');\n",
        "\n",
        "# 정규표현식\n",
        "# * 해당 문자의 패턴이 가 0개 이상 일치할 경우 \n",
        "# + 해당 문자의 패턴이 가 1개 이상 일치할 경우 \n",
        "# ? 앞 문자가 0개이거나 하나 일치할 경우 \n",
        "# | OR를 사용하기 위한 연산자 \n",
        "# ^ 문자열이 시작할 경우 \n",
        "# $ 문자열이 끝날 경우 \n",
        "# . NULL을 제외한 임의의 한 문자 \n",
        "# [] 임의의 그룹, [] 안에서의 ^는 일치하지 않음을 의미 \n",
        "# [1-9] 또는 [a-z]로 범위를 표현 \n",
        "# {n} 3번만큼 일치시킴 \n",
        "# {n,} 적어도 n번 이상만큼 일치시킴 \n",
        "# {n, m} n번 이상일치시키되 m을 초과하지 않음"
      ],
      "execution_count": null,
      "outputs": []
    },
    {
      "cell_type": "markdown",
      "metadata": {
        "id": "bqApLh2urDVB"
      },
      "source": [
        "# Weather Observation Station 8\n",
        "\n",
        "Query the list of CITY names from STATION which have vowels (i.e., a, e, i, o, and u) as both their first and last characters. Your result cannot contain duplicates."
      ]
    },
    {
      "cell_type": "code",
      "metadata": {
        "id": "yYvUPVzErC3Y"
      },
      "source": [
        "SELECT CITY FROM STATION\n",
        "where lower(SUBSTR(city,-1,1)) in ('a','e','i','o','u')\n",
        "AND lower(SUBSTR(city,1,1)) in ('a','e','i','o','u');"
      ],
      "execution_count": null,
      "outputs": []
    },
    {
      "cell_type": "markdown",
      "metadata": {
        "id": "8c3PrR2Yrl74"
      },
      "source": [
        "# Weather Observation Station 9\n",
        "\n",
        "Query the list of CITY names from STATION that do not start with vowels. Your result cannot contain duplicates."
      ]
    },
    {
      "cell_type": "code",
      "metadata": {
        "id": "T-amTLjdq09S"
      },
      "source": [
        "SELECT DISTINCT CITY FROM STATION\n",
        "WHERE lower(SUBSTR(city,1,1)) NOT in ('a','e','i','o','u');\n",
        "\n",
        "# 정규 표현식\n",
        "select distinct city from station \n",
        "where NOT REGEXP_LIKE(City, '^[aeiouAEIOU]');"
      ],
      "execution_count": null,
      "outputs": []
    },
    {
      "cell_type": "markdown",
      "metadata": {
        "id": "WTm_d-yYs39E"
      },
      "source": [
        "# Weather Observation Station 10\n",
        "\n",
        "Query the list of CITY names from STATION that do not end with vowels. Your result cannot contain duplicates.\n"
      ]
    },
    {
      "cell_type": "code",
      "metadata": {
        "id": "-vem_yTjs7rN"
      },
      "source": [
        "SELECT DISTINCT CITY FROM STATION\n",
        "WHERE lower(SUBSTR(city,-1,1)) NOT in ('a','e','i','o','u');\n",
        "\n",
        "# 정규 표현식\n",
        "select distinct city from station \n",
        "where NOT REGEXP_LIKE(City, '[aeiouAEIOU]$');"
      ],
      "execution_count": null,
      "outputs": []
    },
    {
      "cell_type": "markdown",
      "metadata": {
        "id": "L-EJxTettOn2"
      },
      "source": [
        "# Weather Observation Station 11\n",
        "\n",
        "Query the list of CITY names from STATION that either do not start with vowels or do not end with vowels. Your result cannot contain duplicates."
      ]
    },
    {
      "cell_type": "code",
      "metadata": {
        "id": "oKMxfwkHtRQ_"
      },
      "source": [
        "SELECT DISTINCT CITY FROM STATION\n",
        "WHERE lower(SUBSTR(city,-1,1)) NOT in ('a','e','i','o','u')\n",
        "OR lower(SUBSTR(city,1,1)) NOT in ('a','e','i','o','u');\n",
        "\n",
        "# 정규\n",
        "select distinct city from station \n",
        "where NOT REGEXP_LIKE(City, '^[aeiouAEIOU]')\n",
        "OR NOT REGEXP_LIKE(City, '[aeiouAEIOU]$');"
      ],
      "execution_count": null,
      "outputs": []
    },
    {
      "cell_type": "markdown",
      "metadata": {
        "id": "MzkAj3Dat42L"
      },
      "source": [
        "# Weather Observation Station 12\n",
        "\n",
        "Query the list of CITY names from STATION that do not start with vowels and do not end with vowels. Your result cannot contain duplicates."
      ]
    },
    {
      "cell_type": "code",
      "metadata": {
        "id": "qs-wAabLt7f7"
      },
      "source": [
        "SELECT DISTINCT CITY FROM STATION\n",
        "WHERE lower(SUBSTR(city,-1,1)) NOT in ('a','e','i','o','u')\n",
        "AND lower(SUBSTR(city,1,1)) NOT in ('a','e','i','o','u');\n",
        "\n",
        "# 정규\n",
        "select distinct city from station \n",
        "where NOT REGEXP_LIKE(City, '^[aeiouAEIOU]')\n",
        "AND NOT REGEXP_LIKE(City, '[aeiouAEIOU]$');"
      ],
      "execution_count": null,
      "outputs": []
    },
    {
      "cell_type": "markdown",
      "metadata": {
        "id": "Upx1GZEKuLCR"
      },
      "source": [
        "# Higher Than 75 Marks\n",
        "\n",
        "Query the Name of any student in STUDENTS who scored higher than  Marks. Order your output by the last three characters of each name. If two or more students both have names ending in the same last three characters (i.e.: Bobby, Robby, etc.), secondary sort them by ascending ID."
      ]
    },
    {
      "cell_type": "code",
      "metadata": {
        "id": "GRJuLJmKuOb7"
      },
      "source": [
        "SELECT NAME FROM STUDENTS\n",
        "WHERE MARKS > 75\n",
        "ORDER BY SUBSTR(NAME,-3,3),ID ASC;\n",
        "\n",
        "# 오답 : SECONDARY SORT 기준 -> ORDER BY SUBSTR(NAME,-3,3),ID ASC;\n",
        "# SUBSTR 뒤에 ID가 있으면 두번째 기준이 됨."
      ],
      "execution_count": null,
      "outputs": []
    },
    {
      "cell_type": "markdown",
      "metadata": {
        "id": "HqoJr_5xv7ck"
      },
      "source": [
        "# Employee Names\n",
        "\n",
        "Write a query that prints a list of employee names (i.e.: the name attribute) from the Employee table in alphabetical order."
      ]
    },
    {
      "cell_type": "code",
      "metadata": {
        "id": "n-FxSe7yv90s"
      },
      "source": [
        "SELECT NAME FROM EMPLOYEE\n",
        "ORDER BY NAME ASC;"
      ],
      "execution_count": null,
      "outputs": []
    },
    {
      "cell_type": "markdown",
      "metadata": {
        "id": "E1GcYolDwdVS"
      },
      "source": [
        "# Employee Salaries\n",
        "\n",
        "Write a query that prints a list of employee names (i.e.: the name attribute) for employees in Employee having a salary greater than  per month who have been employees for less than  months. Sort your result by ascending employee_id."
      ]
    },
    {
      "cell_type": "code",
      "metadata": {
        "id": "2HQqd6YJwe-D"
      },
      "source": [
        "SELECT NAME FROM EMPLOYEE\n",
        "WHERE SALARY > 2000\n",
        "AND MONTHS < 10\n",
        "ORDER BY EMPLOYEE_ID ASC;"
      ],
      "execution_count": null,
      "outputs": []
    },
    {
      "cell_type": "markdown",
      "metadata": {
        "id": "q46k1azLw1kV"
      },
      "source": [
        "# Weather Observation Station 17\n",
        "\n",
        "Query the Western Longitude (LONG_W)where the smallest Northern Latitude (LAT_N) in STATION is greater than . Round your answer to  decimal places."
      ]
    },
    {
      "cell_type": "code",
      "metadata": {
        "id": "0HrgxANvw37m"
      },
      "source": [
        "SELECT ROUND(LONG_W,4) FROM STATION\n",
        "WHERE LAT_N IN (SELECT MIN(LAT_N) FROM STATION WHERE LAT_N > 38.7780 );\n",
        "\n",
        "SELECT ROUND(LONG_W,4) FROM STATION\n",
        "WHERE LAT_N I= (SELECT MIN(LAT_N) FROM STATION WHERE LAT_N > 38.7780 );"
      ],
      "execution_count": null,
      "outputs": []
    },
    {
      "cell_type": "markdown",
      "metadata": {
        "id": "TlbRel9MzP6r"
      },
      "source": [
        "# Weather Observation Station 18\n",
        "\n",
        "Consider  and  to be two points on a 2D plane.\n",
        "\n",
        " happens to equal the minimum value in Northern Latitude (LAT_N in STATION).\n",
        " happens to equal the minimum value in Western Longitude (LONG_W in STATION).\n",
        " happens to equal the maximum value in Northern Latitude (LAT_N in STATION).\n",
        " happens to equal the maximum value in Western Longitude (LONG_W in STATION).\n",
        "Query the Manhattan Distance between points  and  and round it to a scale of  decimal places."
      ]
    },
    {
      "cell_type": "code",
      "metadata": {
        "id": "5-6frLcJzR0y"
      },
      "source": [
        "# SELECT LAT_N,LONG_W FROM STATION\n",
        "# WHERE LAT_N = (SELECT MIN(LAT_N) FROM STATION)\n",
        "# AND LONG_W = (SELECT MIN(LONG_W) FROM STATION)\n",
        "\n",
        "\n",
        "# SELECT LAT_N FROM STATION\n",
        "# WHERE LAT_N = (SELECT MIN(LAT_N) FROM STATION)\n",
        "# # 25.07\n",
        "\n",
        "# SELECT LONG_W FROM STATION\n",
        "# AND LONG_W = (SELECT MIN(LONG_W) FROM STATION)\n",
        "# # 25.10\n",
        "\n",
        "SELECT ROUND( MAX(lat_n)-MIN(lat_n) + MAX(long_w)-MIN(long_w), 4) FROM Station;"
      ],
      "execution_count": null,
      "outputs": []
    }
  ]
}