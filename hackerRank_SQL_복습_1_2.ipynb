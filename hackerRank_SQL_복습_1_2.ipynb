{
  "nbformat": 4,
  "nbformat_minor": 0,
  "metadata": {
    "colab": {
      "name": "hackerRank_SQL_복습_1/2.ipynb",
      "provenance": []
    },
    "kernelspec": {
      "name": "python3",
      "display_name": "Python 3"
    },
    "language_info": {
      "name": "python"
    }
  },
  "cells": [
    {
      "cell_type": "markdown",
      "metadata": {
        "id": "ktL-axdoNAku"
      },
      "source": [
        "어려웠던 문제를 복습하는 시간을 가져봅시다"
      ]
    },
    {
      "cell_type": "markdown",
      "metadata": {
        "id": "ivbJ5uIMrtrH"
      },
      "source": [
        "# Day1 - (HARD) Weather Observation Station 5 - 서브쿼리인듯?\n",
        "Query the two cities in STATION with the shortest and longest CITY names, as well as their respective lengths (i.e.: number of characters in the name). If there is more than one smallest or largest city, choose the one that comes first when ordered alphabetically."
      ]
    },
    {
      "cell_type": "code",
      "metadata": {
        "id": "mb6TGkACM95T"
      },
      "source": [
        "# 한 놈은 가장 짧은 놈\n",
        "select city, length(city) from station\n",
        "where length(city) = (\n",
        "    select min(CHAR_LENGTH(city)) from station \n",
        ")\n",
        "order by city\n",
        "limit 1;\n",
        "\n",
        "\n",
        "# 한 놈은 가장 긴 놈\n",
        "select city, length(city) from station\n",
        "where length(city) = (\n",
        "    select max(CHAR_LENGTH(city)) from station \n",
        ")\n",
        "order by city\n",
        "limit 1;\n",
        "\n",
        "# 정답!"
      ],
      "execution_count": null,
      "outputs": []
    },
    {
      "cell_type": "markdown",
      "metadata": {
        "id": "yEuVsqWMtiZU"
      },
      "source": [
        "# Day1 - [~~로 시작하는 글자 찾기] Weather Observation Station 6\n",
        "\n",
        "Query the list of CITY names starting with vowels (i.e., a, e, i, o, or u) from STATION. Your result cannot contain duplicates."
      ]
    },
    {
      "cell_type": "code",
      "metadata": {
        "id": "0s3KaXByr2HS"
      },
      "source": [
        "select distinct(city) from station\n",
        "# 정규표현식 Regular Expression? 줄여서 RegExp \n",
        "select distinct(city) from station\n",
        "where REGEXP_LIKE(city,\"^a|^e|^i|^o|^u\")\n",
        "# 정답!\n",
        "# | 를 여러개 쓰지 말고\n",
        "# REGEXP_LIKE(city,'^[aeiouAEIOU]') 이렇게하는게 더 깔끔하네"
      ],
      "execution_count": null,
      "outputs": []
    },
    {
      "cell_type": "markdown",
      "metadata": {
        "id": "qTlw_HbrwSq6"
      },
      "source": [
        "# Day2 - [조건문 CASE Hard] Type of Triangle\n",
        "\n",
        "Write a query identifying the type of each record in the TRIANGLES table using its three side lengths. Output one of the following statements for each record in the table:\n",
        "\n",
        "Equilateral: It's a triangle with  sides of equal length.\n",
        "Isosceles: It's a triangle with  sides of equal length.\n",
        "Scalene: It's a triangle with  sides of differing lengths.\n",
        "Not A Triangle: The given values of A, B, and C don't form a triangle."
      ]
    },
    {
      "cell_type": "code",
      "metadata": {
        "id": "anJsJ21CgN0P"
      },
      "source": [
        "# https://velog.io/@inyong_pang/MySQL-MySQL-variables%EB%B3%80%EC%88%98-%EB%A7%8C%EB%93%A4%EC%96%B4%EC%84%9C-%EC%9D%91%EC%9A%A9%ED%95%98%EA%B8%B0getidPK\n",
        "# ㄴ mysql 변수 만들어서 응용하기\n",
        "# 기대값 4종류 : 정삼각형, 이등변 삼각형, 이상한 삼각형, 삼각형이 아님\n",
        "SET @return = 1\n",
        "\n",
        "select @return,\n",
        "case\n",
        "  when (a+b < c) or (a+c < b) or (b+c < a) then @return := \"Not A Triangle\"\n",
        "  when (a=b & b > c) or (a=c & c > b) or (c=b & b > a) then @return := \"Isosceles\"\n",
        "  when (a=b & b = c) then @return := \"Equilateral\"\n",
        "  else @return := \"Scalene\"\n",
        "end\n",
        "from TRIANGLES \n",
        "\n",
        "# ㄴ case랑 when이랑 헷갈린거 같다 ;;\n",
        "select case\n",
        "  when (a+b <= c) or (a+c <= b) or (b+c <= a) then \"Not A Triangle\"\n",
        "  when a=b & b = c then \"Equilateral\"\n",
        "  # 헉! AND 랑 && 랑 같은거였다. &는 틀림. 논리연산자로서 &&.\n",
        "  when (a=b & 2b > c) or (a=c & 2c > b) or (c=b & 2b > a) then \"Isosceles\"\n",
        "  else \"Scalene\"\n",
        "end\n",
        "from TRIANGLES \n",
        "\n",
        "# 다른 사람의 정답\n",
        "SELECT\n",
        "  CASE\n",
        "      WHEN a+b <= c OR a+c <= b OR b+c <= a THEN 'Not A Triangle'\n",
        "      WHEN a=b AND b=c THEN 'Equilateral'\n",
        "      WHEN a=b OR b=c OR c=a THEN 'Isosceles'\n",
        "      ELSE 'Scalene'\n",
        "      END\n",
        "FROM triangles;"
      ],
      "execution_count": null,
      "outputs": []
    }
  ]
}