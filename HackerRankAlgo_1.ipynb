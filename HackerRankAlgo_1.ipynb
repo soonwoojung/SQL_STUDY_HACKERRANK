{
  "nbformat": 4,
  "nbformat_minor": 0,
  "metadata": {
    "colab": {
      "name": "HackerRankAlgo_1.ipynb",
      "provenance": []
    },
    "kernelspec": {
      "name": "python3",
      "display_name": "Python 3"
    },
    "language_info": {
      "name": "python"
    }
  },
  "cells": [
    {
      "cell_type": "markdown",
      "metadata": {
        "id": "OI1D7zaOvsdw"
      },
      "source": [
        "# [Easy] Simple Array Sum - list sum\n",
        "\n"
      ]
    },
    {
      "cell_type": "code",
      "metadata": {
        "id": "dFXtdJXevoH0"
      },
      "source": [
        "#!/bin/python3\n",
        "\n",
        "import math\n",
        "import os\n",
        "import random\n",
        "import re\n",
        "import sys\n",
        "\n",
        "#\n",
        "# Complete the 'simpleArraySum' function below.\n",
        "#\n",
        "# The function is expected to return an INTEGER.\n",
        "# The function accepts INTEGER_ARRAY ar as parameter.\n",
        "#\n",
        "\n",
        "def simpleArraySum(ar):\n",
        "    sum = 0\n",
        "    for i in range(len(ar)):\n",
        "        sum += ar[i]\n",
        "        \n",
        "    return sum\n",
        "    # Write your code here\n",
        "\n",
        "if __name__ == '__main__':\n",
        "    fptr = open(os.environ['OUTPUT_PATH'], 'w')\n",
        "\n",
        "    ar_count = int(input().strip())\n",
        "\n",
        "    ar = list(map(int, input().rstrip().split()))\n",
        "\n",
        "    result = simpleArraySum(ar)\n",
        "\n",
        "    fptr.write(str(result) + '\\n')\n",
        "\n",
        "    fptr.close()"
      ],
      "execution_count": null,
      "outputs": []
    },
    {
      "cell_type": "markdown",
      "metadata": {
        "id": "bxCRZ9j2wkLH"
      },
      "source": [
        "# [Easy] Compare the Triplets - 값 비교"
      ]
    },
    {
      "cell_type": "code",
      "metadata": {
        "id": "2fVp_3JjwmDu"
      },
      "source": [
        "#!/bin/python3\n",
        "\n",
        "import math\n",
        "import os\n",
        "import random\n",
        "import re\n",
        "import sys\n",
        "\n",
        "#\n",
        "# Complete the 'compareTriplets' function below.\n",
        "#\n",
        "# The function is expected to return an INTEGER_ARRAY.\n",
        "# The function accepts following parameters:\n",
        "#  1. INTEGER_ARRAY a\n",
        "#  2. INTEGER_ARRAY b\n",
        "#\n",
        "\n",
        "def compareTriplets(a, b):\n",
        "    win_a = 0\n",
        "    win_b = 0\n",
        "    for i in range(3):\n",
        "        if a[i] > b[i]:\n",
        "            win_a += 1\n",
        "        \n",
        "        if a[i] < b[i]:\n",
        "            win_b += 1\n",
        "    return win_a,win_b\n",
        "    # Write your code here\n",
        "\n",
        "if __name__ == '__main__':\n",
        "    fptr = open(os.environ['OUTPUT_PATH'], 'w')\n",
        "\n",
        "    a = list(map(int, input().rstrip().split()))\n",
        "\n",
        "    b = list(map(int, input().rstrip().split()))\n",
        "\n",
        "    result = compareTriplets(a, b)\n",
        "\n",
        "    fptr.write(' '.join(map(str, result)))\n",
        "    fptr.write('\\n')\n",
        "\n",
        "    fptr.close()\n"
      ],
      "execution_count": null,
      "outputs": []
    },
    {
      "cell_type": "markdown",
      "metadata": {
        "id": "ulBRMmnEyRnw"
      },
      "source": [
        "# A Very Big Sum - 너무 쉬워서 의미 없어서 생략"
      ]
    },
    {
      "cell_type": "markdown",
      "metadata": {
        "id": "S2zuPVUk18ig"
      },
      "source": [
        "# [easy] Diagonal Difference - 정사각행렬에서 대각선끼리 합의 차이의 절대값 구하는 문제\n",
        "\n"
      ]
    },
    {
      "cell_type": "code",
      "metadata": {
        "id": "m0M7ap2q2TWq"
      },
      "source": [
        "#!/bin/python3\n",
        "\n",
        "import math\n",
        "import os\n",
        "import random\n",
        "import re\n",
        "import sys\n",
        "\n",
        "#\n",
        "# Complete the 'diagonalDifference' function below.\n",
        "#\n",
        "# The function is expected to return an INTEGER.\n",
        "# The function accepts 2D_INTEGER_ARRAY arr as parameter.\n",
        "#\n",
        "\n",
        "def diagonalDifference(arr):\n",
        "    # Write your code here\n",
        "    # print(arr)\n",
        "    # print(len(arr)) # 3\n",
        "    sum = 0\n",
        "    sum2 = 0\n",
        "    for i in range(len(arr)):\n",
        "        sum += arr[i][i] # - arr[i][len(arr)-1-i]\n",
        "        \n",
        "    for i in range(len(arr)):\n",
        "        sum2 += arr[i][len(arr)-1-i]\n",
        "    \n",
        "    \n",
        "    return abs(sum-sum2)\n",
        "\n",
        "if __name__ == '__main__':\n",
        "    fptr = open(os.environ['OUTPUT_PATH'], 'w')\n",
        "\n",
        "    n = int(input().strip())\n",
        "\n",
        "    arr = []\n",
        "\n",
        "    for _ in range(n):\n",
        "        arr.append(list(map(int, input().rstrip().split())))\n",
        "\n",
        "    result = diagonalDifference(arr)\n",
        "\n",
        "    fptr.write(str(result) + '\\n')\n",
        "\n",
        "    fptr.close()\n"
      ],
      "execution_count": null,
      "outputs": []
    },
    {
      "cell_type": "markdown",
      "metadata": {
        "id": "jtjUGgAT-jL4"
      },
      "source": [
        "# [easy] Plus Minus\n",
        "\n"
      ]
    },
    {
      "cell_type": "code",
      "metadata": {
        "id": "kua1HoKr-pkx"
      },
      "source": [
        "#!/bin/python3\n",
        "\n",
        "import math\n",
        "import os\n",
        "import random\n",
        "import re\n",
        "import sys\n",
        "\n",
        "#\n",
        "# Complete the 'plusMinus' function below.\n",
        "#\n",
        "# The function accepts INTEGER_ARRAY arr as parameter.\n",
        "#\n",
        "\n",
        "def plusMinus(arr):\n",
        "    # Write your code here\n",
        "    # print(len(arr))\n",
        "    plus_sum = 0\n",
        "    minus_sum = 0\n",
        "    zero_sum = 0\n",
        "    \n",
        "    for i in range(len(arr)):\n",
        "        if arr[i]<0:\n",
        "            minus_sum += 1\n",
        "        if arr[i]>0:\n",
        "            plus_sum += 1\n",
        "        if arr[i]==0:\n",
        "            zero_sum += 1\n",
        "            \n",
        "    print(plus_sum/len(arr))\n",
        "    print(minus_sum/len(arr))\n",
        "    print(zero_sum/len(arr))\n",
        "\n",
        "if __name__ == '__main__':\n",
        "    n = int(input().strip())\n",
        "\n",
        "    arr = list(map(int, input().rstrip().split()))\n",
        "\n",
        "    plusMinus(arr)"
      ],
      "execution_count": null,
      "outputs": []
    },
    {
      "cell_type": "markdown",
      "metadata": {
        "id": "ZseA51om_-HH"
      },
      "source": [
        "# [Med] Climbing the Leaderboard - 재밌네. 캐쉬 사용. 헉, 시간 제한 걸림\n",
        "\n",
        "An arcade game player wants to climb to the top of the leaderboard and track their ranking. The game uses Dense Ranking, so its leaderboard works like this:\n",
        "\n",
        "The player with the highest score is ranked number  on the leaderboard.\n",
        "Players who have equal scores receive the same ranking number, and the next player(s) receive the immediately following ranking number.\n",
        "Example\n",
        "\n",
        "\n",
        "\n",
        "The ranked players will have ranks , , , and , respectively. If the player's scores are ,  and , their rankings after each game are ,  and . Return .\n",
        "\n",
        "Function Description\n",
        "\n",
        "Complete the climbingLeaderboard function in the editor below.\n",
        "\n",
        "climbingLeaderboard has the following parameter(s):\n",
        "\n",
        "int ranked[n]: the leaderboard scores\n",
        "int player[m]: the player's scores\n",
        "Returns\n",
        "\n",
        "int[m]: the player's rank after each new score\n",
        "Input Format\n",
        "\n",
        "The first line contains an integer , the number of players on the leaderboard.\n",
        "The next line contains  space-separated integers , the leaderboard scores in decreasing order.\n",
        "The next line contains an integer, , the number games the player plays.\n",
        "The last line contains  space-separated integers , the game scores."
      ]
    },
    {
      "cell_type": "code",
      "metadata": {
        "id": "OA0akeX9ATAw"
      },
      "source": [
        "#!/bin/python3\n",
        "\n",
        "import math\n",
        "import os\n",
        "import random\n",
        "import re\n",
        "import sys\n",
        "\n",
        "\n",
        "# 1차시도 : 문제점 : 순서대로 나열되어있다는 특성을 활용 못하면 시간 아웃\n",
        "\n",
        "def climbingLeaderboard(ranked, player):\n",
        "    # print(ranked)\n",
        "    # print(player)\n",
        "    ranked = list(set(ranked))\n",
        "    rank_list = []\n",
        "    for i in range(len(player)):\n",
        "        count_rank = 1\n",
        "\n",
        "        for j in range(len(ranked)):\n",
        "            if player[i] >= ranked[j]:\n",
        "                continue\n",
        "            if player[i] < ranked[j]:\n",
        "                count_rank = count_rank + 1\n",
        "\n",
        "        rank_list.append(count_rank)\n",
        "                    \n",
        "    return rank_list\n",
        "\n",
        "# 다른 사람의 답 : 뒤에서부터 풀면 통과 -_- ;;\n",
        "# def climbingLeaderboard(scores, alice):\n",
        "#     scores_set = list(set(scores))\n",
        "#     scores_set.sort(reverse=True)\n",
        "#     result = []\n",
        "#     l = len(scores_set)\n",
        "#     for s in alice:\n",
        "#         while (l>0) and (s >= scores_set[l-1]):\n",
        "#             l -= 1\n",
        "#         result.append(l+1)\n",
        "#     return result\n",
        "\n",
        "if __name__ == '__main__':\n",
        "    fptr = open(os.environ['OUTPUT_PATH'], 'w')\n",
        "\n",
        "    ranked_count = int(input().strip())\n",
        "\n",
        "    ranked = list(map(int, input().rstrip().split()))\n",
        "\n",
        "    player_count = int(input().strip())\n",
        "\n",
        "    player = list(map(int, input().rstrip().split()))\n",
        "\n",
        "    result = climbingLeaderboard(ranked, player)\n",
        "\n",
        "    fptr.write('\\n'.join(map(str, result)))\n",
        "    fptr.write('\\n')\n",
        "\n",
        "    fptr.close()"
      ],
      "execution_count": null,
      "outputs": []
    },
    {
      "cell_type": "markdown",
      "metadata": {
        "id": "YsKz3QFKVpeJ"
      },
      "source": [
        "# [Hard] Forming a Magic Square - 마방진???"
      ]
    },
    {
      "cell_type": "code",
      "metadata": {
        "id": "PPey4Z1aATDh"
      },
      "source": [
        ""
      ],
      "execution_count": null,
      "outputs": []
    },
    {
      "cell_type": "code",
      "metadata": {
        "id": "IyCjYpDkATGA"
      },
      "source": [
        ""
      ],
      "execution_count": null,
      "outputs": []
    }
  ]
}