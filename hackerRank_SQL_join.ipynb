{
  "nbformat": 4,
  "nbformat_minor": 0,
  "metadata": {
    "colab": {
      "name": "hackerRank_SQL_join.ipynb",
      "provenance": []
    },
    "kernelspec": {
      "name": "python3",
      "display_name": "Python 3"
    },
    "language_info": {
      "name": "python"
    }
  },
  "cells": [
    {
      "cell_type": "markdown",
      "metadata": {
        "id": "NXDqmV4dlNUt"
      },
      "source": [
        "# query the sum of the populations of all cities where the CONTINENT is 'Asia'."
      ]
    },
    {
      "cell_type": "markdown",
      "metadata": {
        "id": "MGry1mS-gIZ_"
      },
      "source": [
        "Given the CITY and COUNTRY tables, query the sum of the populations of all cities where the CONTINENT is 'Asia'."
      ]
    },
    {
      "cell_type": "code",
      "metadata": {
        "id": "V68bDeEmgDHl"
      },
      "source": [
        "select sum(city.population) from city\n",
        "inner join country\n",
        "on country.Code = city.countrycode\n",
        "where country.CONTINENT = 'Asia'\n",
        "\n"
      ],
      "execution_count": null,
      "outputs": []
    },
    {
      "cell_type": "markdown",
      "metadata": {
        "id": "7lw7ZIQsiMHx"
      },
      "source": [
        "```\n",
        "ERROR 1052 (23000) at line 1: Column 'population' in field list is ambiguous\n",
        "```\n",
        "이건 population 이 두 테이블에서 모두 있으니 발생함. 그래서 population -> city.population"
      ]
    },
    {
      "cell_type": "markdown",
      "metadata": {
        "id": "ImI2fTLDhNGV"
      },
      "source": [
        "https://clairdelunes.tistory.com/22\n",
        "\n",
        "SQ은 명시적 조인 표현(join 키워드)과 암시적 조인 표현(FROM 에서 `,`)으로 구분을 지정한다.\n",
        "\n"
      ]
    },
    {
      "cell_type": "markdown",
      "metadata": {
        "id": "C0FYMKMolHHK"
      },
      "source": [
        "# query the names of all cities where the CONTINENT is 'Africa'."
      ]
    },
    {
      "cell_type": "markdown",
      "metadata": {
        "id": "VWfwGNPaji7v"
      },
      "source": [
        "Given the CITY and COUNTRY tables, query the names of all cities where the CONTINENT is 'Africa'.\n",
        "\n",
        "Note: CITY.CountryCode and COUNTRY.Code are matching key columns.\n",
        "\n",
        "Input Format\n",
        "\n",
        "The CITY and COUNTRY tables are described as follows:"
      ]
    },
    {
      "cell_type": "code",
      "metadata": {
        "id": "4FtIgouIjmF3"
      },
      "source": [
        "select city.name from city\n",
        "inner join country\n",
        "on CITY.CountryCode =  COUNTRY.Code\n",
        "where COUNTRY.CONTINENT = 'Africa'"
      ],
      "execution_count": null,
      "outputs": []
    },
    {
      "cell_type": "markdown",
      "metadata": {
        "id": "pw9HdyjikdWA"
      },
      "source": [
        "```\n",
        "여기서 드는 의문점 : df merge랑 sql join이랑 다른점은??\n",
        "```\n",
        "같은것으로 보인다. df merge how의 기본이 `key` 인것만 빼면. \n"
      ]
    },
    {
      "cell_type": "markdown",
      "metadata": {
        "id": "e7WmbjHYlFli"
      },
      "source": [
        "# Average Population of Each Continent"
      ]
    },
    {
      "cell_type": "markdown",
      "metadata": {
        "id": "5RKtRH7WlRKH"
      },
      "source": [
        "Given the CITY and COUNTRY tables, query the names of all the continents (COUNTRY.Continent) and their respective average city populations (CITY.Population) rounded down to the nearest integer.\n",
        "\n",
        "Note: CITY.CountryCode and COUNTRY.Code are matching key columns."
      ]
    },
    {
      "cell_type": "markdown",
      "metadata": {
        "id": "UR-JxBE6nGG6"
      },
      "source": [
        "기대결과\n",
        "```\n",
        "Oceania 109189 \n",
        "South America 147435 \n",
        "Europe 175138 \n",
        "Africa 274439 \n",
        "Asia 693038 \n",
        "```"
      ]
    },
    {
      "cell_type": "code",
      "metadata": {
        "id": "W2wrL5-Xk-dQ"
      },
      "source": [
        "select COUNTRY.Continent, Floor(AVG(CITY.Population)) from city\n",
        "inner join country\n",
        "on CITY.CountryCode = COUNTRY.Code\n",
        "group by COUNTRY.Continent"
      ],
      "execution_count": null,
      "outputs": []
    },
    {
      "cell_type": "markdown",
      "metadata": {
        "id": "K6PH1Xe2lzi2"
      },
      "source": [
        "1st try ====================\n",
        "```\n",
        "select COUNTRY.Continent, round((CITY.Population),1) from city\n",
        "inner join country\n",
        "on CITY.CountryCode = COUNTRY.Code\n",
        "```\n",
        "결과\n",
        "```\n",
        "Asia 127800\n",
        "Oceania 92273\n",
        "Oceania 109914\n",
        "Asia 127815\n",
        "Asia 1392860\n",
        "```\n",
        "2nd Try\n",
        "```\n",
        "select COUNTRY.Continent, round((CITY.Population),1) from city\n",
        "inner join country\n",
        "on CITY.CountryCode = COUNTRY.Code\n",
        "group_by COUNTRY.Continent\n",
        "```\n",
        "Error\n",
        "```\n",
        "check right syntax to use near \n",
        "'groub_by COUNTRY.Continent' at line 4\n",
        "```\n",
        "Changed\n",
        "```\n",
        "group_by -> group by\n",
        "```\n"
      ]
    },
    {
      "cell_type": "markdown",
      "metadata": {
        "id": "CLuSf6pzmJuH"
      },
      "source": [
        "Group by 복습\n",
        "```\n",
        "GROUP BY를 사용할 때는 두가지를 기억해야 합니다.\n",
        "\n",
        "특정 컬럼을 그룹화 하는 GROUP BY \n",
        "\n",
        "특정 컬럼을 그룹화한 결과에 조건을 거는 HAVING\n",
        "```\n",
        "https://extbrain.tistory.com/56"
      ]
    },
    {
      "cell_type": "markdown",
      "metadata": {
        "id": "Iid1RboCmq7W"
      },
      "source": [
        "avg를 적용하기 위해선 \n",
        "\n",
        "group_by COUNTRY.Continent 를 해야한다"
      ]
    },
    {
      "cell_type": "markdown",
      "metadata": {
        "id": "WgGCmT9NpcbO"
      },
      "source": [
        "# The Report\n",
        "\n",
        "Ketty gives Eve a task to generate a report containing three columns: Name, Grade and Mark. Ketty doesn't want the NAMES of those students who received a grade lower than 8. The report must be in descending order by grade -- i.e. higher grades are entered first. If there is more than one student with the same grade (8-10) assigned to them, order those particular students by their name alphabetically. Finally, if the grade is lower than 8, use \"NULL\" as their name and list them by their grades in descending order. If there is more than one student with the same grade (1-7) assigned to them, order those particular students by their marks in ascending order.\n",
        "\n",
        "Write a query to help Eve."
      ]
    },
    {
      "cell_type": "code",
      "metadata": {
        "id": "vt3OC8jwpe72"
      },
      "source": [
        "# 다른 유저의 정답\n",
        "SELECT IF(GRADE < 8, NULL, NAME), GRADE, MARKS\n",
        "FROM STUDENTS JOIN GRADES\n",
        "WHERE MARKS BETWEEN MIN_MARK AND MAX_MARK\n",
        "ORDER BY GRADE DESC, NAME\n",
        "\n",
        "# SELECT * FROM multiple tables -> 신기하네..."
      ],
      "execution_count": null,
      "outputs": []
    },
    {
      "cell_type": "markdown",
      "metadata": {
        "id": "22OEE0U6wyUW"
      },
      "source": [
        "궁금증. Join & inner join 차이는?\n",
        "```\n",
        "They are functionally equivalent, \n",
        "but INNER JOIN can be a bit clearer to read\n",
        "```\n",
        "https://stackoverflow.com/questions/565620/difference-between-join-and-inner-join"
      ]
    },
    {
      "cell_type": "markdown",
      "metadata": {
        "id": "ybCuvctXxP9b"
      },
      "source": [
        "궁금증. `ON` 없이 어떤 기준으로 조인되나?\n",
        "```\n",
        "It will match each row from table_a to every row in table_b. \n",
        "It’s similar to run SELECT * FROM multiple tables statement below.\n",
        "\n",
        "Let’s say we have one table with 100 rows, \n",
        "another table with 200 rows, \n",
        "by running the statement above, \n",
        "we get a result of 20,000 rows!\n",
        "```\n",
        "pd.concat 에서 index가 다를 경우 Nan으로 채워지며 행이 뻥튀기되는거랑 비슷한것 같다. 다만 여기선 Nan이 아니라 두 테이블 조합의 모든 경우의 수로 뻥튀기 되는것으로 이해된다.\n",
        " \n",
        "https://tableplus.com/blog/2019/09/sql-join-without-on.html"
      ]
    },
    {
      "cell_type": "markdown",
      "metadata": {
        "id": "xJPxidsByi_v"
      },
      "source": [
        "```\n",
        "SELECT IF(GRADE < 8, NULL, NAME), GRADE, MARKS\n",
        "FROM STUDENTS JOIN GRADES\n",
        "```\n",
        "이 쿼리 결과를 보자.\n",
        "```\n",
        "Samantha 10 87\n",
        "Samantha 9 87\n",
        "Samantha 8 87\n",
        "NULL 7 87\n",
        "NULL 6 87\n",
        "...\n",
        "```\n",
        "다른 유저의 경우, SELECT * FROM multiple tables 의 동작 특징을 활용한 것으로 보인다."
      ]
    },
    {
      "cell_type": "markdown",
      "metadata": {
        "id": "-Imju3VG2XTz"
      },
      "source": [
        "# Ollivander's Inventory [join,group by,having]\n",
        "\n",
        "Harry Potter and his friends are at Ollivander's with Ron, finally replacing Charlie's old broken wand.\n",
        "\n",
        "Hermione decides the best way to choose is by determining the minimum number of gold galleons needed to buy each non-evil wand of high power and age. **Write a query to print the id, age, coins_needed, and power of the wands that Ron's interested in**, sorted in order of descending power. If more than one wand has same power, sort the result in order of descending age.\n"
      ]
    },
    {
      "cell_type": "code",
      "metadata": {
        "id": "5XGWgpCJpe-O"
      },
      "source": [
        "SELECT id, age, coins_needed, power\n",
        "FROM WANDS_PROPERTY JOIN WANDS on WANDS.code = WANDS_property.code\n",
        "where WANDS_property.is_evil is not 0\n",
        "order by power desc, age desc\n",
        "\n",
        "# GG 왜 다른거지?\n",
        "# by determining the minimum number of gold galleons needed \n",
        "# to buy each non-evil wand of high power and age\n",
        "# 다른 정답자 의견\n",
        "# we have to produce only those rows which have minimum_need for each age\n",
        "# 아하..그렇다면 age 별로 minimum 비용인 것들만 하나의 행으로 리턴해야겠네\n",
        "\n",
        "# [MY_SQL] where절과 having절의 차이 \n",
        "# https://delirussum.tistory.com/141\n"
      ],
      "execution_count": null,
      "outputs": []
    },
    {
      "cell_type": "markdown",
      "metadata": {
        "id": "QoBKMZ3v9Etx"
      },
      "source": [
        "기대값\n",
        "```\n",
        "1038 496 4789 10 \n",
        "1130 494 9439 10 \n",
        "1315 492 4126 10 \n",
        "9 491 7345 10 \n",
        "858 483 4352 10 \n",
        "...\n",
        "```\n",
        "내결과 (기대값은 power 중복이면 age가 어린놈은 제외하라는 뜻인것같다 )\n",
        "```\n",
        "SELECT id, age, coins_needed, power\n",
        "FROM WANDS_PROPERTY JOIN WANDS on WANDS.code = WANDS_property.code\n",
        "where WANDS_property.is_evil is not 0\n",
        "order by power desc, age desc\n",
        "\n",
        "===\n",
        "\n",
        "1303 496 6678 10 \n",
        "1038 496 4789 10 \n",
        "1130 494 9439 10 \n",
        "1315 492 4126 10 \n",
        "892 492 4345 10 \n",
        "9 491 7345 10 \n",
        "...\n",
        "```"
      ]
    },
    {
      "cell_type": "code",
      "metadata": {
        "id": "gnm7aS-6pfAW"
      },
      "source": [
        "# 다른 유저들의 답\n",
        "SELECT id, age, coins_needed, power\n",
        "FROM WANDS_PROPERTY JOIN WANDS on WANDS.code = WANDS_property.code\n",
        "WHERE is_evil = 0\n",
        "GROUP BY  age, power \n",
        "HAVING MIN(coins_needed) \n",
        "ORDER BY power DESC, age DESC;\n",
        "\n",
        "\n"
      ],
      "execution_count": null,
      "outputs": []
    }
  ]
}