{
  "nbformat": 4,
  "nbformat_minor": 0,
  "metadata": {
    "colab": {
      "name": "https://www.hackerrank.com/domains/sql.ipynb",
      "provenance": []
    },
    "kernelspec": {
      "name": "python3",
      "display_name": "Python 3"
    },
    "language_info": {
      "name": "python"
    }
  },
  "cells": [
    {
      "cell_type": "markdown",
      "metadata": {
        "id": "TeN8SakWXnfQ"
      },
      "source": [
        "https://www.hackerrank.com/domains/sql"
      ]
    },
    {
      "cell_type": "markdown",
      "metadata": {
        "id": "JJL40wsHa8uJ"
      },
      "source": [
        "# Day 1"
      ]
    },
    {
      "cell_type": "markdown",
      "metadata": {
        "id": "7yJt4ul7XtOS"
      },
      "source": [
        "# Revising the Select Query I\n",
        "\n",
        "Query all columns for all American cities in the CITY table with populations larger than 100000. The CountryCode for America is USA.\n",
        "\n",
        "The CITY table is described as follows:"
      ]
    },
    {
      "cell_type": "code",
      "metadata": {
        "id": "lGaISREtXmAn"
      },
      "source": [
        "SELECT * FROM CITY \n",
        "WHERE POPULATION > 100000 AND CountryCode = 'USA';\n",
        "\n",
        "# 오답 사례 : CountryCode == 'USA' // SQL 조건문에서 일치는 = 을 사용."
      ],
      "execution_count": null,
      "outputs": []
    },
    {
      "cell_type": "markdown",
      "metadata": {
        "id": "DC3MBzVvbEqj"
      },
      "source": [
        "# Revising the Select Query II\n",
        "\n",
        "Query the NAME field for all American cities in the CITY table with populations larger than 120000. The CountryCode for America is USA.\n",
        "\n",
        "The CITY table is described as follows:"
      ]
    },
    {
      "cell_type": "code",
      "metadata": {
        "id": "qlCsP-uVbHcb"
      },
      "source": [
        "SELECT NAME FROM CITY \n",
        "WHERE POPULATION > 120000 AND CountryCode = 'USA';"
      ],
      "execution_count": null,
      "outputs": []
    },
    {
      "cell_type": "markdown",
      "metadata": {
        "id": "WnBQKu8pcJEw"
      },
      "source": [
        "# Select All\n",
        "\n",
        "Query all columns (attributes) for every row in the CITY table.\n",
        "\n",
        "The CITY table is described as follows:"
      ]
    },
    {
      "cell_type": "code",
      "metadata": {
        "id": "2fOsmC3vcO-7"
      },
      "source": [
        "SELECT * FROM CITY"
      ],
      "execution_count": null,
      "outputs": []
    },
    {
      "cell_type": "markdown",
      "metadata": {
        "id": "qcaJPNuJcpfH"
      },
      "source": [
        "# Select By ID\n",
        "\n",
        "Query all columns for a city in CITY with the ID 1661.\n",
        "\n",
        "The CITY table is described as follows:"
      ]
    },
    {
      "cell_type": "code",
      "metadata": {
        "id": "s1idnI6Kcr9o"
      },
      "source": [
        "SELECT * FROM CITY\n",
        "WHERE ID = '1661';\n",
        "\n",
        "SELECT * FROM CITY\n",
        "WHERE ID = 1661;"
      ],
      "execution_count": null,
      "outputs": []
    },
    {
      "cell_type": "markdown",
      "metadata": {
        "id": "odwbethmdKvO"
      },
      "source": [
        "# Japanese Cities' Attributes\n",
        "\n",
        "\n",
        "\n",
        "Query all attributes of every Japanese city in the CITY table. The COUNTRYCODE for Japan is JPN.\n",
        "\n",
        "The CITY table is described as follows:"
      ]
    },
    {
      "cell_type": "code",
      "metadata": {
        "id": "97L8FJqCdPMP"
      },
      "source": [
        "SELECT * FROM CITY \n",
        "WHERE COUNTRYCODE = 'JPN';"
      ],
      "execution_count": null,
      "outputs": []
    },
    {
      "cell_type": "markdown",
      "metadata": {
        "id": "dEsYUxbUdbQd"
      },
      "source": [
        "# Japanese Cities' Names\n",
        "\n",
        "Query the names of all the Japanese cities in the CITY table. The COUNTRYCODE for Japan is JPN.\n",
        "The CITY table is described as follows:"
      ]
    },
    {
      "cell_type": "code",
      "metadata": {
        "id": "SPOMeeQEdf1H"
      },
      "source": [
        "SELECT NAME FROM CITY\n",
        "WHERE COUNTRYCODE = 'JPN';"
      ],
      "execution_count": null,
      "outputs": []
    },
    {
      "cell_type": "markdown",
      "metadata": {
        "id": "tEK0WnJOd6CK"
      },
      "source": [
        "# Weather Observation Station 1\n",
        "\n",
        "Query a list of CITY and STATE from the STATION table.\n",
        "The STATION table is described as follows:"
      ]
    },
    {
      "cell_type": "code",
      "metadata": {
        "id": "e3tExHkTd-O1"
      },
      "source": [
        "SELECT CITY, STATE FROM STATION\n",
        "SELECT CITY, STATE FROM STATION;\n",
        "\n",
        "# 오답 : SELECT CITY AND STATE FROM STATION; "
      ],
      "execution_count": null,
      "outputs": []
    },
    {
      "cell_type": "markdown",
      "metadata": {
        "id": "wXrEXDQKehL0"
      },
      "source": [
        "# Weather Observation Station 3\n",
        "\n",
        "Query a list of CITY names from STATION for cities that have an even ID number. Print the results in any order, but exclude duplicates from the answer.\n",
        "The STATION table is described as follows:"
      ]
    },
    {
      "cell_type": "code",
      "metadata": {
        "id": "avTXpuplekq1"
      },
      "source": [
        "SELECT DISTINCT CITY FROM STATION\n",
        "WHERE ID%2 = 0;\n",
        "\n",
        "# https://www.databasejournal.com/features/mysql/article.php/3911786/Eliminating-Duplicate-Rows-from-MySQL-Result-Sets.htm\n",
        "# DISTINCT : EXCLUDE DUPLICATES"
      ],
      "execution_count": null,
      "outputs": []
    },
    {
      "cell_type": "markdown",
      "metadata": {
        "id": "VhUqTvJRhTZE"
      },
      "source": [
        "# (HARD) Weather Observation Station 5\n",
        "\n",
        "Query the two cities in STATION with the shortest and longest CITY names, as well as their respective lengths (i.e.: number of characters in the name). If there is more than one smallest or largest city, choose the one that comes first when ordered alphabetically.\n",
        "The STATION table is described as follows:\n",
        "\n",
        "When ordered alphabetically, the CITY names are listed as ABC, DEF, PQRS, and WXY, with lengths  and . The longest name is PQRS, but there are  options for shortest named city. Choose ABC, because it comes first alphabetically."
      ]
    },
    {
      "cell_type": "code",
      "metadata": {
        "id": "yLtmaIJ9hhtB"
      },
      "source": [
        "# 다른 유저 정답\n",
        "select city, length(city) from station\n",
        "order by length(city),city asc\n",
        "limit 1;\n",
        "\n",
        "select city, length(city) from station\n",
        "order by length(city) desc\n",
        "limit 1;\n",
        "# --------------- # ---------------\n",
        "\n",
        "# 도시와 도시 글자 개수를 리턴 받는데\n",
        "# 도시 글자 개수가 최대인것. 그리고 ASC 순서.\n",
        "SELECT CITY, CHAR_LENGTH(CITY) FROM STATION \n",
        "where CHAR_LENGTH(city) = (select max(CHAR_LENGTH(city)) from station)\n",
        "order by city asc;\n",
        "\n",
        "# 도시와 도시 글자 개수를 리턴 받는데\n",
        "# 도시 글자 개수가 최소인것. 그리고 ASC 순서.\n",
        "# 여러개라서 LIMIT 1\n",
        "SELECT CITY, CHAR_LENGTH(CITY) FROM STATION \n",
        "where CHAR_LENGTH(city) = (select MIN(CHAR_LENGTH(city)) from station)\n",
        "order by city asc\n",
        "LIMIT 1;"
      ],
      "execution_count": null,
      "outputs": []
    },
    {
      "cell_type": "markdown",
      "metadata": {
        "id": "vaokfn6Tnksf"
      },
      "source": [
        "# [~~로 시작하는 글자 찾기] Weather Observation Station 6\n",
        "\n",
        "Query the list of CITY names starting with vowels (i.e., a, e, i, o, or u) from STATION. Your result cannot contain duplicates.\n",
        "\n",
        "Input Format\n",
        "\n",
        "The STATION table is described as follows:"
      ]
    },
    {
      "cell_type": "code",
      "metadata": {
        "id": "dXXAGVkgnntH"
      },
      "source": [
        "# SUBSTR : 1번째 위치에서 1개 글자를 읽는다.\n",
        "select city from station \n",
        "where lower(SUBSTR(city,1,1)) in ('a','e','i','o','u');\n",
        "\n",
        "# 정규표현식\n",
        "select DISTINCT city from station where REGEXP_LIKE(city,'^[aeiouAEIOU]');"
      ],
      "execution_count": null,
      "outputs": []
    },
    {
      "cell_type": "markdown",
      "metadata": {
        "id": "W6NR80wGpUwY"
      },
      "source": [
        "# Weather Observation Station 7\n",
        "\n",
        "Query the list of CITY names ending with vowels (a, e, i, o, u) from STATION. Your result cannot contain duplicates."
      ]
    },
    {
      "cell_type": "code",
      "metadata": {
        "id": "pBlu36CCpYBA"
      },
      "source": [
        "# 내 정답\n",
        "select DISTINCT city from station \n",
        "where lower(SUBSTR(city,-1,1)) in ('a','e','i','o','u');\n",
        "\n",
        "# 다른 사람 정답\n",
        "SELECT DISTINCT CITY FROM STATION\n",
        "WHERE REGEXP_LIKE(City, '[aeiouAEIOU]$');\n",
        "\n",
        "# 정규표현식\n",
        "# * 해당 문자의 패턴이 가 0개 이상 일치할 경우 \n",
        "# + 해당 문자의 패턴이 가 1개 이상 일치할 경우 \n",
        "# ? 앞 문자가 0개이거나 하나 일치할 경우 \n",
        "# | OR를 사용하기 위한 연산자 \n",
        "# ^ 문자열이 시작할 경우 \n",
        "# $ 문자열이 끝날 경우 \n",
        "# . NULL을 제외한 임의의 한 문자 \n",
        "# [] 임의의 그룹, [] 안에서의 ^는 일치하지 않음을 의미 \n",
        "# [1-9] 또는 [a-z]로 범위를 표현 \n",
        "# {n} 3번만큼 일치시킴 \n",
        "# {n,} 적어도 n번 이상만큼 일치시킴 \n",
        "# {n, m} n번 이상일치시키되 m을 초과하지 않음"
      ],
      "execution_count": null,
      "outputs": []
    },
    {
      "cell_type": "markdown",
      "metadata": {
        "id": "bqApLh2urDVB"
      },
      "source": [
        "# Weather Observation Station 8\n",
        "\n",
        "Query the list of CITY names from STATION which have vowels (i.e., a, e, i, o, and u) as both their first and last characters. Your result cannot contain duplicates."
      ]
    },
    {
      "cell_type": "code",
      "metadata": {
        "id": "yYvUPVzErC3Y"
      },
      "source": [
        "SELECT CITY FROM STATION\n",
        "where lower(SUBSTR(city,-1,1)) in ('a','e','i','o','u')\n",
        "AND lower(SUBSTR(city,1,1)) in ('a','e','i','o','u');"
      ],
      "execution_count": null,
      "outputs": []
    },
    {
      "cell_type": "markdown",
      "metadata": {
        "id": "8c3PrR2Yrl74"
      },
      "source": [
        "# Weather Observation Station 9\n",
        "\n",
        "Query the list of CITY names from STATION that do not start with vowels. Your result cannot contain duplicates."
      ]
    },
    {
      "cell_type": "code",
      "metadata": {
        "id": "T-amTLjdq09S"
      },
      "source": [
        "SELECT DISTINCT CITY FROM STATION\n",
        "WHERE lower(SUBSTR(city,1,1)) NOT in ('a','e','i','o','u');\n",
        "\n",
        "# 정규 표현식\n",
        "select distinct city from station \n",
        "where NOT REGEXP_LIKE(City, '^[aeiouAEIOU]');"
      ],
      "execution_count": null,
      "outputs": []
    },
    {
      "cell_type": "markdown",
      "metadata": {
        "id": "WTm_d-yYs39E"
      },
      "source": [
        "# Weather Observation Station 10\n",
        "\n",
        "Query the list of CITY names from STATION that do not end with vowels. Your result cannot contain duplicates.\n"
      ]
    },
    {
      "cell_type": "code",
      "metadata": {
        "id": "-vem_yTjs7rN"
      },
      "source": [
        "SELECT DISTINCT CITY FROM STATION\n",
        "WHERE lower(SUBSTR(city,-1,1)) NOT in ('a','e','i','o','u');\n",
        "\n",
        "# 정규 표현식\n",
        "select distinct city from station \n",
        "where NOT REGEXP_LIKE(City, '[aeiouAEIOU]$');"
      ],
      "execution_count": null,
      "outputs": []
    },
    {
      "cell_type": "markdown",
      "metadata": {
        "id": "L-EJxTettOn2"
      },
      "source": [
        "# Weather Observation Station 11\n",
        "\n",
        "Query the list of CITY names from STATION that either do not start with vowels or do not end with vowels. Your result cannot contain duplicates."
      ]
    },
    {
      "cell_type": "code",
      "metadata": {
        "id": "oKMxfwkHtRQ_"
      },
      "source": [
        "SELECT DISTINCT CITY FROM STATION\n",
        "WHERE lower(SUBSTR(city,-1,1)) NOT in ('a','e','i','o','u')\n",
        "OR lower(SUBSTR(city,1,1)) NOT in ('a','e','i','o','u');\n",
        "\n",
        "# 정규\n",
        "select distinct city from station \n",
        "where NOT REGEXP_LIKE(City, '^[aeiouAEIOU]')\n",
        "OR NOT REGEXP_LIKE(City, '[aeiouAEIOU]$');"
      ],
      "execution_count": null,
      "outputs": []
    },
    {
      "cell_type": "markdown",
      "metadata": {
        "id": "MzkAj3Dat42L"
      },
      "source": [
        "# [SUBSTR] Weather Observation Station 12\n",
        "\n",
        "Query the list of CITY names from STATION that do not start with vowels and do not end with vowels. Your result cannot contain duplicates."
      ]
    },
    {
      "cell_type": "code",
      "metadata": {
        "id": "qs-wAabLt7f7"
      },
      "source": [
        "SELECT DISTINCT CITY FROM STATION\n",
        "WHERE lower(SUBSTR(city,-1,1)) NOT in ('a','e','i','o','u')\n",
        "AND lower(SUBSTR(city,1,1)) NOT in ('a','e','i','o','u');\n",
        "\n",
        "# 정규\n",
        "select distinct city from station \n",
        "where NOT REGEXP_LIKE(City, '^[aeiouAEIOU]')\n",
        "AND NOT REGEXP_LIKE(City, '[aeiouAEIOU]$');"
      ],
      "execution_count": null,
      "outputs": []
    },
    {
      "cell_type": "markdown",
      "metadata": {
        "id": "Upx1GZEKuLCR"
      },
      "source": [
        "# [오름차순 나열 Order by] Higher Than 75 Marks\n",
        "\n",
        "Query the Name of any student in STUDENTS who scored higher than  Marks. Order your output by the last three characters of each name. If two or more students both have names ending in the same last three characters (i.e.: Bobby, Robby, etc.), secondary sort them by ascending ID."
      ]
    },
    {
      "cell_type": "code",
      "metadata": {
        "id": "GRJuLJmKuOb7"
      },
      "source": [
        "SELECT NAME FROM STUDENTS\n",
        "WHERE MARKS > 75\n",
        "ORDER BY SUBSTR(NAME,-3,3),ID ASC;\n",
        "\n",
        "# 오답 : SECONDARY SORT 기준 -> ORDER BY SUBSTR(NAME,-3,3),ID ASC;\n",
        "# SUBSTR 뒤에 ID가 있으면 두번째 기준이 됨."
      ],
      "execution_count": null,
      "outputs": []
    },
    {
      "cell_type": "markdown",
      "metadata": {
        "id": "HqoJr_5xv7ck"
      },
      "source": [
        "# [ORDER BY] Employee Names\n",
        "\n",
        "Write a query that prints a list of employee names (i.e.: the name attribute) from the Employee table in alphabetical order."
      ]
    },
    {
      "cell_type": "code",
      "metadata": {
        "id": "n-FxSe7yv90s"
      },
      "source": [
        "SELECT NAME FROM EMPLOYEE\n",
        "ORDER BY NAME ASC;"
      ],
      "execution_count": null,
      "outputs": []
    },
    {
      "cell_type": "markdown",
      "metadata": {
        "id": "E1GcYolDwdVS"
      },
      "source": [
        "# Employee Salaries\n",
        "\n",
        "Write a query that prints a list of employee names (i.e.: the name attribute) for employees in Employee having a salary greater than  per month who have been employees for less than  months. Sort your result by ascending employee_id."
      ]
    },
    {
      "cell_type": "code",
      "metadata": {
        "id": "2HQqd6YJwe-D"
      },
      "source": [
        "SELECT NAME FROM EMPLOYEE\n",
        "WHERE SALARY > 2000\n",
        "AND MONTHS < 10\n",
        "ORDER BY EMPLOYEE_ID ASC;"
      ],
      "execution_count": null,
      "outputs": []
    },
    {
      "cell_type": "markdown",
      "metadata": {
        "id": "q46k1azLw1kV"
      },
      "source": [
        "# [소수점아래 ~자리 ROUND] Weather Observation Station 17\n",
        "\n",
        "Query the Western Longitude (LONG_W)where the smallest Northern Latitude (LAT_N) in STATION is greater than . Round your answer to  decimal places."
      ]
    },
    {
      "cell_type": "code",
      "metadata": {
        "id": "0HrgxANvw37m"
      },
      "source": [
        "SELECT ROUND(LONG_W,4) FROM STATION\n",
        "WHERE LAT_N IN (SELECT MIN(LAT_N) FROM STATION WHERE LAT_N > 38.7780 );\n",
        "\n",
        "SELECT ROUND(LONG_W,4) FROM STATION\n",
        "WHERE LAT_N I= (SELECT MIN(LAT_N) FROM STATION WHERE LAT_N > 38.7780 );"
      ],
      "execution_count": null,
      "outputs": []
    },
    {
      "cell_type": "markdown",
      "metadata": {
        "id": "TlbRel9MzP6r"
      },
      "source": [
        "# Weather Observation Station 18\n",
        "\n",
        "Consider  and  to be two points on a 2D plane.\n",
        "\n",
        " happens to equal the minimum value in Northern Latitude (LAT_N in STATION).\n",
        " happens to equal the minimum value in Western Longitude (LONG_W in STATION).\n",
        " happens to equal the maximum value in Northern Latitude (LAT_N in STATION).\n",
        " happens to equal the maximum value in Western Longitude (LONG_W in STATION).\n",
        "Query the Manhattan Distance between points  and  and round it to a scale of  decimal places."
      ]
    },
    {
      "cell_type": "code",
      "metadata": {
        "id": "5-6frLcJzR0y"
      },
      "source": [
        "# SELECT LAT_N,LONG_W FROM STATION\n",
        "# WHERE LAT_N = (SELECT MIN(LAT_N) FROM STATION)\n",
        "# AND LONG_W = (SELECT MIN(LONG_W) FROM STATION)\n",
        "\n",
        "\n",
        "# SELECT LAT_N FROM STATION\n",
        "# WHERE LAT_N = (SELECT MIN(LAT_N) FROM STATION)\n",
        "# # 25.07\n",
        "\n",
        "# SELECT LONG_W FROM STATION\n",
        "# AND LONG_W = (SELECT MIN(LONG_W) FROM STATION)\n",
        "# # 25.10\n",
        "\n",
        "SELECT ROUND( MAX(lat_n)-MIN(lat_n) + MAX(long_w)-MIN(long_w), 4) FROM Station;"
      ],
      "execution_count": null,
      "outputs": []
    },
    {
      "cell_type": "markdown",
      "metadata": {
        "id": "RFoTpF7xa_KZ"
      },
      "source": [
        "# Day 2"
      ]
    },
    {
      "cell_type": "markdown",
      "metadata": {
        "id": "rtkX2E_XbCvS"
      },
      "source": [
        "# [조건문 CASE Hard] Type of Triangle\n",
        "\n",
        "Write a query identifying the type of each record in the TRIANGLES table using its three side lengths. Output one of the following statements for each record in the table:\n",
        "\n",
        "Equilateral: It's a triangle with  sides of equal length.\n",
        "Isosceles: It's a triangle with  sides of equal length.\n",
        "Scalene: It's a triangle with  sides of differing lengths.\n",
        "Not A Triangle: The given values of A, B, and C don't form a triangle."
      ]
    },
    {
      "cell_type": "code",
      "metadata": {
        "id": "3I8mw-a1bHaU"
      },
      "source": [
        "select case \n",
        "when a=b and b=c and c=a then \"Equilateral\"\n",
        "when (a=b and a+b>c) or (c=b and c+b>a) or (c=a and c+a>b) then \"Isosceles\"\n",
        "when (a>=b+c or b>=a+c or c>=a+b) then \"Not A Triangle\"\n",
        "else \"Scalene\" # 3개의 길이가 다르고, `가장 짧은거 두개의 합이 가장 긴거보다 길어야 한다는 조건 표현이 길고 어려움`\n",
        "END\n",
        "from triangles\n",
        "\n",
        "# 다른 사람의 답\n",
        "SELECT CASE             \n",
        "            WHEN A + B > C AND B + C > A AND A + C > B THEN\n",
        "                CASE \n",
        "                    WHEN A = B AND B = C THEN 'Equilateral'\n",
        "                    WHEN A = B OR B = C OR A = C THEN 'Isosceles'\n",
        "                    ELSE 'Scalene'\n",
        "                END\n",
        "            ELSE 'Not A Triangle'\n",
        "        END\n",
        "FROM TRIANGLES;"
      ],
      "execution_count": null,
      "outputs": []
    },
    {
      "cell_type": "markdown",
      "metadata": {
        "id": "XiHOpS-XiV0j"
      },
      "source": [
        "# [데이터 개수 : COUNT] Weather Observation Station 4\n",
        "\n",
        "Find the difference between the total number of CITY entries in the table and the number of distinct CITY entries in the table.\n",
        "The STATION table is described as follows:"
      ]
    },
    {
      "cell_type": "code",
      "metadata": {
        "id": "kLgpEOeNiY3U"
      },
      "source": [
        "SELECT (COUNT(CITY)- COUNT(DISTINCT(CITY))) FROM STATION"
      ],
      "execution_count": null,
      "outputs": []
    },
    {
      "cell_type": "markdown",
      "metadata": {
        "id": "8xmmqYU4jZwZ"
      },
      "source": [
        "# Weather Observation Station 14\n",
        "\n",
        "Query the greatest value of the Northern Latitudes (LAT_N) from STATION that is less than . Truncate your answer to  decimal places."
      ]
    },
    {
      "cell_type": "code",
      "metadata": {
        "id": "xEVdOpVIjfKi"
      },
      "source": [
        "SELECT ROUND(MAX(LAT_N),4) FROM STATION\n",
        "WHERE LAT_N < 137.2345"
      ],
      "execution_count": null,
      "outputs": []
    },
    {
      "cell_type": "markdown",
      "metadata": {
        "id": "hRq4Zb6Pj7Im"
      },
      "source": [
        "# Weather Observation Station 15\n",
        "\n",
        "Query the Western Longitude (LONG_W) for the largest Northern Latitude (LAT_N) in STATION that is less than . Round your answer to  decimal places."
      ]
    },
    {
      "cell_type": "code",
      "metadata": {
        "id": "1SX4w-F9j9_g"
      },
      "source": [
        "SELECT ROUND(LONG_W,4) FROM STATION\n",
        "WHERE LAT_N = (SELECT MAX(LAT_N) FROM STATION WHERE LAT_N < 137.2345)"
      ],
      "execution_count": null,
      "outputs": []
    },
    {
      "cell_type": "markdown",
      "metadata": {
        "id": "XnQ5_ZuXl0UW"
      },
      "source": [
        "# Weather Observation Station 16\n",
        "\n",
        "Query the smallest Northern Latitude (LAT_N) from STATION that is greater than . Round your answer to  decimal places."
      ]
    },
    {
      "cell_type": "code",
      "metadata": {
        "id": "7qEZkSUnl2uW"
      },
      "source": [
        "SELECT ROUND(LAT_N,4) FROM STATION\n",
        "WHERE LAT_N = (SELECT MIN(LAT_N) FROM STATION WHERE LAT_N > 38.7780)"
      ],
      "execution_count": null,
      "outputs": []
    },
    {
      "cell_type": "markdown",
      "metadata": {
        "id": "toiiV5YgnYLy"
      },
      "source": [
        "# [SQRT, POW] Weather Observation Station 19\n",
        "\n",
        "Consider  and  to be two points on a 2D plane where  are the respective minimum and maximum values of Northern Latitude (LAT_N) and  are the respective minimum and maximum values of Western Longitude (LONG_W) in STATION.\n",
        "\n",
        "Query the Euclidean Distance between points  and  and format your answer to display  decimal digits."
      ]
    },
    {
      "cell_type": "code",
      "metadata": {
        "id": "AsNVB1UenaJr"
      },
      "source": [
        "SELECT ROUND( SQRT( POW( MAX(LONG_W)-MIN(LONG_W),2 ) + POW( MAX(LAT_N)-MIN(LAT_N),2 ) ),4) FROM STATION"
      ],
      "execution_count": null,
      "outputs": []
    },
    {
      "cell_type": "markdown",
      "metadata": {
        "id": "WTldUpgqpPpg"
      },
      "source": [
        "# [MEDIAN HARD] Weather Observation Station 20\n",
        "\n",
        "A median is defined as a number separating the higher half of a data set from the lower half. Query the median of the Northern Latitudes (LAT_N) from STATION and round your answer to  decimal places."
      ]
    },
    {
      "cell_type": "code",
      "metadata": {
        "id": "JqRroFx2pUin"
      },
      "source": [
        "# MEDIAN 이라는 함수가 없다.\n",
        "\n",
        "# 홀수인 경우\n",
        "Select round(S.LAT_N,4) from station S \n",
        "where (select count(Lat_N) from station where Lat_N < S.LAT_N ) \n",
        "       = (select count(Lat_N) from station where Lat_N > S.LAT_N)\n",
        "\n",
        "# 짝수인 경우\n",
        "Select round(AVG(S.LAT_N),4) from station S \n",
        "where (select count(Lat_N) from station where Lat_N < S.LAT_N ) \n",
        "       = (select count(Lat_N) from station where Lat_N > S.LAT_N)\n",
        "\n",
        "\n",
        "# 다른 사람의 풀이\n",
        "select cast(lat_n as decimal(10,4)) from\n",
        "(select lat_n, row_number() over (order by lat_n desc) as rnum1 from station) t1\n",
        "where rnum1 = \n",
        "(select case when max(rnum)%2=0 then max(rnum)/2\n",
        "            else max(rnum)/2+1 end \n",
        "            from \n",
        "(select row_number() over (order by lat_n desc) as rnum from station) t)\n",
        "\n",
        "# 다른 사람의 풀이2\n",
        "# https://techblog-history-younghunjo1.tistory.com/160"
      ],
      "execution_count": null,
      "outputs": []
    },
    {
      "cell_type": "markdown",
      "metadata": {
        "id": "2JtbqMkTsu_c"
      },
      "source": [
        "# Revising Aggregations - The Count Function\n",
        "\n",
        "Query a count of the number of cities in CITY having a Population larger than ."
      ]
    },
    {
      "cell_type": "code",
      "metadata": {
        "id": "l1sHEcONtLBl"
      },
      "source": [
        "SELECT COUNT(ID) FROM CITY\n",
        "WHERE POPULATION>100000"
      ],
      "execution_count": null,
      "outputs": []
    },
    {
      "cell_type": "markdown",
      "metadata": {
        "id": "QnZzd77XtlvU"
      },
      "source": [
        "# [Hard GROUP BY] The PADS\n",
        "\n",
        "Generate the following two result sets:\n",
        "\n",
        "Query an alphabetically ordered list of all names in OCCUPATIONS, immediately followed by the first letter of each profession as a parenthetical (i.e.: enclosed in parentheses). For example: AnActorName(A), ADoctorName(D), AProfessorName(P), and ASingerName(S).\n",
        "Query the number of ocurrences of each occupation in OCCUPATIONS. Sort the occurrences in ascending order, and output them in the following format:\n",
        "\n",
        "There are a total of [occupation_count] [occupation]s.\n",
        "where [occupation_count] is the number of occurrences of an occupation in OCCUPATIONS and [occupation] is the lowercase occupation name. If more than one Occupation has the same [occupation_count], they should be ordered alphabetically."
      ]
    },
    {
      "cell_type": "code",
      "metadata": {
        "id": "1RMHIvrUt2BY"
      },
      "source": [
        "# concat(Name,'(',Substring(Occupation,1,1),')')\n",
        "# CONCAT : STR,STR,STR -> STRSTRSTR \n",
        "SELECT NAME, CONCAT('(',UPPER(SUBSTR(OCCUPATION,1,1)),')') FROM OCCUPATIONS\n",
        "ORDER BY NAME ASC;\n",
        "\n",
        "# Sort the occurrences in ascending order\n",
        "# If more than one Occupation has the same [occupation_count], \n",
        "# they should be ordered alphabetically.\n",
        "\n",
        "# 나의 오답\n",
        "SELECT COUNT(OCCUPATION) FROM OCCUPATIONS\n",
        "WHERE OCCUPATION = (SELECT DISTINCT OCCUPATION FROM OCCUPATIONS)\n",
        "# ㄴ 이건 서브쿼리가 조회하는 ROW 개수가 2개 이상이라서 에러가 발생\n",
        "\n",
        "# 다른 사람의 답\n",
        "select concat('There are total',' ',count(occupation),' ',lower(occupation),'s.') \n",
        "\n",
        "from occupations\n",
        "\n",
        "group by occupation\n",
        "\n",
        "order by count(occupation), OCCUPATION\n",
        "\n",
        "# GROUP BY : 유형별로 갯수를 알고 싶을 때는 \n",
        "# 컬럼에 데이터를 그룹화 할 수 있는 GROUP BY를 사용\n",
        "\n",
        "\n",
        "\n"
      ],
      "execution_count": null,
      "outputs": []
    },
    {
      "cell_type": "markdown",
      "metadata": {
        "id": "CUG1w0H19PAd"
      },
      "source": [
        "# [Hard Pivot] Occupations\n",
        "\n",
        "Pivot the Occupation column in OCCUPATIONS so that each Name is sorted alphabetically and displayed underneath its corresponding Occupation. The output column headers should be Doctor, Professor, Singer, and Actor, respectively.\n",
        "\n",
        "Note: Print NULL when there are no more names corresponding to an occupation."
      ]
    },
    {
      "cell_type": "code",
      "metadata": {
        "id": "kMpmbkPv9W5W"
      },
      "source": [
        "# 다른 유저 답안\n",
        "SELECT\n",
        "    case when Occupation='Doctor' then Name end as Doctor,\n",
        "    case when Occupation='Professor' then Name end as Professor,\n",
        "    case when Occupation='Singer' then Name end as Singer,\n",
        "    case when Occupation='Actor' then Name end as Actor\n",
        "FROM OCCUPATIONS\n",
        "\n",
        "# 이렇게 하면 DOCTOR,Professor,... 인 경우 유저 네임만 가져오고 아니면 NULL로 나옴.\n",
        "# | C1 | C2 | C3 | C4 | \n",
        "# NULL Ashley NULL NULL\n",
        "# NULL NULL NULL Samantha\n",
        "# Julia NULL NULL NULL\n",
        "# NULL Britney NULL NULL\n",
        "set @r1=0, @r2=0, @r3=0, @r4=0;\n",
        "\n",
        "SELECT case \n",
        "    when Occupation='Doctor' then (@r1:=@r1+1)\n",
        "    when Occupation='Professor' then (@r2:=@r2+1)\n",
        "    when Occupation='Singer' then (@r3:=@r3+1) \n",
        "    when Occupation='Actor' then (@r4:=@r4+1) end as RowNumber\n",
        "\n",
        "FROM OCCUPATIONS\n",
        "# 이렇게 하면 직업별로 DOCTOR,Professor,...로 N번째로 존재하는 ROW별 INDEX가 나옴.\n",
        "# 1 ( ASHLEY : 1 )\n",
        "# 1 ( SAMANTHA : 1 )\n",
        "# 1 ( JULIA : 1 )\n",
        "# 2 ( BRITNEY : 2 )\n",
        "# 여기서, ASHLEY : 1, SAMANTHA :1, JULIA :1, BRITNEY :2 의 의미는\n",
        "# 애슐리는 프로페서로 1번째로 조회되고, BRITNEY는 2번째로 조회됨\n",
        "# 맨 처음 실행한 쿼리랑 섞으면, DB상에 몇번째로, 어떤 직업인지 알 수 있음.\n",
        "\n",
        "# 섞음\n",
        "set @r1=0, @r2=0, @r3=0, @r4=0;\n",
        "\n",
        "SELECT case \n",
        "\twhen Occupation='Doctor' then (@r1:=@r1+1)\n",
        "        when Occupation='Professor' then (@r2:=@r2+1)\n",
        "        when Occupation='Singer' then (@r3:=@r3+1)\n",
        "        when Occupation='Actor' then (@r4:=@r4+1) end as RowNumber,\n",
        "        case when Occupation='Doctor' then Name end as Doctor,\n",
        "        case when Occupation='Professor' then Name end as Professor,\n",
        "        case when Occupation='Singer' then Name end as Singer,\n",
        "        case when Occupation='Actor' then Name end as Actor\n",
        "\n",
        "FROM OCCUPATIONS\n",
        "# 1 NULL Ashley NULL NULL\n",
        "# 1 NULL NULL NULL Samantha\n",
        "# 1 Julia NULL NULL NULL\n",
        "# 2 NULL Britney NULL NULL\n",
        "\n",
        "# 최종\n",
        "set @r1=0, @r2=0, @r3=0, @r4=0;\n",
        "select min(Doctor), min(Professor), min(Singer), min(Actor)\n",
        "from(\n",
        "  select case \n",
        "    when Occupation='Doctor' then (@r1:=@r1+1)\n",
        "    when Occupation='Professor' then (@r2:=@r2+1)\n",
        "    when Occupation='Singer' then (@r3:=@r3+1)\n",
        "    when Occupation='Actor' then (@r4:=@r4+1) \n",
        "  end as RowNumber,\n",
        "     \n",
        "         case when Occupation='Doctor' then Name end as Doctor,\n",
        "         case when Occupation='Professor' then Name end as Professor,\n",
        "         case when Occupation='Singer' then Name end as Singer,\n",
        "         case when Occupation='Actor' then Name end as Actor\n",
        "  from OCCUPATIONS\n",
        "  order by Name\n",
        "\t) temp\n",
        "group by RowNumber;\n",
        "\n",
        "# GROUP BY를 통해서 \n",
        "# 1 NULL Ashley NULL NULL\n",
        "# 1 NULL NULL NULL Samantha\n",
        "# 1 Julia NULL NULL NULL\n",
        "# 2 NULL Britney NULL NULL\n",
        "# 여기서 MIN(OCCU)로 1부터 N까지 순차적으로 NAME을 가져옴."
      ],
      "execution_count": null,
      "outputs": []
    },
    {
      "cell_type": "markdown",
      "metadata": {
        "id": "0bRk5MUjDDqK"
      },
      "source": [
        "# [NULL이 있는 경우 NOT IN, BST] Binary Tree Nodes\n",
        "\n",
        "You are given a table, BST, containing two columns: N and P, where N represents the value of a node in Binary Tree, and P is the parent of N.\n",
        "\n",
        "\n",
        "\n",
        "Write a query to find the node type of Binary Tree ordered by the value of the node. Output one of the following for each node:\n",
        "\n",
        "Root: If node is root node.\n",
        "Leaf: If node is leaf node.\n",
        "Inner: If node is neither root nor leaf node.\n"
      ]
    },
    {
      "cell_type": "code",
      "metadata": {
        "id": "nxY_tSWcDH7a"
      },
      "source": [
        "# 해당 노드에 CHILD가 있는지 없는지 판별이 관건이라고 생각됨\n",
        "# CHILD 가 없다 = PARENT 에는 없지만 N에는 있다.\n",
        "SELECT DISTINCT N FROM BST\n",
        "WHERE N NOT IN (SELECT DISTINCT P FROM BST WHERE P IS NOT NULL)\n",
        "# 결과 : 1,3,5,6,8,10,....\n",
        "# P 에 NULL이 있는 경우 NOT IN을 하면 항상 UNKNOWN을 리턴함\n",
        "# https://doorbw.tistory.com/222\n",
        "\n",
        "# SELECT DISTINCT P FROM BST\n",
        "# 2,6,4,...13,11,NULL\n",
        "# SELECT DISTINCT N FROM BST\n",
        "# 1,2,3,4,....,14,15\n",
        "\n",
        "# -----------------------------------------------\n",
        "\n",
        "SELECT N,CASE\n",
        "WHEN P is null THEN 'Root'\n",
        "WHEN N IN (\n",
        "    SELECT DISTINCT N FROM BST\n",
        "    WHERE N NOT IN (SELECT DISTINCT P FROM BST WHERE P IS NOT NULL)) THEN 'Leaf'\n",
        "ELSE 'Inner'\n",
        "END\n",
        "FROM BST\n",
        "\n",
        "ORDER BY N\n",
        "# 정답\n",
        "# 1 Leaf \n",
        "# 2 Inner \n",
        "# 3 Leaf \n",
        "# 4 Inner \n",
        "# 5 Leaf \n",
        "# 6 Inner \n",
        "\n",
        "# 제출\n",
        "# 1 Leaf\n",
        "# 2 Inner\n",
        "# 3 Leaf\n",
        "# 4 Inner\n",
        "# 5 Leaf\n",
        "# 6 Inner\n",
        "# 7 Leaf\n",
        "# 8 Leaf\n",
        "# 9 Inner\n",
        "# 10 Leaf\n",
        "# 11 Inner\n",
        "# 12 Leaf\n",
        "# 13 Inner\n",
        "# 14 Leaf\n",
        "# 15 Inner\n",
        "\n",
        "# --------------------------------------------\n",
        "\n",
        "# 다른 사람 코드\n",
        "SELECT CASE\n",
        "\tWHEN P IS NULL THEN CONCAT(N, ' Root')\n",
        "\tWHEN N IN (SELECT DISTINCT P FROM BST) THEN CONCAT(N, ' Inner')\n",
        "\tELSE CONCAT(N, ' Leaf')\n",
        "\tEND\n",
        "FROM BST\n",
        "ORDER BY N ASC\n"
      ],
      "execution_count": null,
      "outputs": []
    }
  ]
}